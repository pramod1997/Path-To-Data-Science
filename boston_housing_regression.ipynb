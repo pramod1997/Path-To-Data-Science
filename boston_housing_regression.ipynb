{
  "nbformat": 4,
  "nbformat_minor": 0,
  "metadata": {
    "colab": {
      "name": "boston-housing-regression.ipynb",
      "version": "0.3.2",
      "provenance": [],
      "toc_visible": true,
      "include_colab_link": true
    },
    "kernelspec": {
      "display_name": "Python 3",
      "language": "python",
      "name": "python3"
    }
  },
  "cells": [
    {
      "cell_type": "markdown",
      "metadata": {
        "id": "view-in-github",
        "colab_type": "text"
      },
      "source": [
        "<a href=\"https://colab.research.google.com/github/pramod1997/Path-To-Data-Science/blob/master/boston_housing_regression.ipynb\" target=\"_parent\"><img src=\"https://colab.research.google.com/assets/colab-badge.svg\" alt=\"Open In Colab\"/></a>"
      ]
    },
    {
      "metadata": {
        "id": "KjKBTJ8L5_1P",
        "colab_type": "code",
        "colab": {}
      },
      "cell_type": "code",
      "source": [
        "# link to data set - > https://www.kaggle.com/c/house-prices-advanced-regression-techniques"
      ],
      "execution_count": 0,
      "outputs": []
    },
    {
      "metadata": {
        "id": "SQIpImu36Ggx",
        "colab_type": "code",
        "colab": {
          "base_uri": "https://localhost:8080/",
          "height": 131
        },
        "outputId": "0d85c152-e439-4a66-a7c5-6df0b4c2a4bc"
      },
      "cell_type": "code",
      "source": [
        "!unzip house-prices-advanced-regression-techniques.zip"
      ],
      "execution_count": 2,
      "outputs": [
        {
          "output_type": "stream",
          "text": [
            "Archive:  house-prices-advanced-regression-techniques.zip\n",
            "  inflating: sample_submission.csv   \n",
            "  inflating: data_description.txt    \n",
            "  inflating: test.csv                \n",
            "  inflating: train.csv               \n"
          ],
          "name": "stdout"
        }
      ]
    },
    {
      "metadata": {
        "_cell_guid": "37645e87-d810-4789-8d43-4a3b52c18f28",
        "_execution_state": "idle",
        "_uuid": "c0afcd9a37b4d868e39414ba95646c3c76149be3",
        "id": "9Tu4X-G35tC5",
        "colab_type": "code",
        "colab": {}
      },
      "cell_type": "code",
      "source": [
        "# This Python 3 environment comes with many helpful analytics libraries installed\n",
        "# It is defined by the kaggle/python docker image: https://github.com/kaggle/docker-python\n",
        "# For example, here's several helpful packages to load in \n",
        "import numpy as np\n",
        "import pandas as pd\n",
        "import matplotlib.pyplot as plt\n",
        "import seaborn as sns\n",
        "import sys\n",
        "import os\n",
        "from time import time\n",
        "from sklearn.model_selection import train_test_split,cross_val_score,GridSearchCV\n",
        "from sklearn.ensemble import RandomForestRegressor\n"
      ],
      "execution_count": 0,
      "outputs": []
    },
    {
      "metadata": {
        "_cell_guid": "e6ee7fdf-fc53-404e-a5c8-416986b45456",
        "_execution_state": "idle",
        "_uuid": "21d2e1999955c503b78b6a05db778f243bc98433",
        "id": "KQ8iVzAU5tDP",
        "colab_type": "code",
        "colab": {}
      },
      "cell_type": "code",
      "source": [
        "train = pd.read_csv('train.csv')\n",
        "test = pd.read_csv('test.csv')"
      ],
      "execution_count": 0,
      "outputs": []
    },
    {
      "metadata": {
        "_cell_guid": "67955413-4e8e-47cb-92d1-909dd6b85b83",
        "_execution_state": "idle",
        "_uuid": "28a0fe1c91c2402144e4baa69ff7754b1cfb4dca",
        "id": "w2QDEo7x5tDk",
        "colab_type": "code",
        "colab": {
          "base_uri": "https://localhost:8080/",
          "height": 258
        },
        "outputId": "a73e3ae9-92b3-4a77-f27f-557a3ace77ea"
      },
      "cell_type": "code",
      "source": [
        "train.head()"
      ],
      "execution_count": 5,
      "outputs": [
        {
          "output_type": "execute_result",
          "data": {
            "text/html": [
              "<div>\n",
              "<style scoped>\n",
              "    .dataframe tbody tr th:only-of-type {\n",
              "        vertical-align: middle;\n",
              "    }\n",
              "\n",
              "    .dataframe tbody tr th {\n",
              "        vertical-align: top;\n",
              "    }\n",
              "\n",
              "    .dataframe thead th {\n",
              "        text-align: right;\n",
              "    }\n",
              "</style>\n",
              "<table border=\"1\" class=\"dataframe\">\n",
              "  <thead>\n",
              "    <tr style=\"text-align: right;\">\n",
              "      <th></th>\n",
              "      <th>Id</th>\n",
              "      <th>MSSubClass</th>\n",
              "      <th>MSZoning</th>\n",
              "      <th>LotFrontage</th>\n",
              "      <th>LotArea</th>\n",
              "      <th>Street</th>\n",
              "      <th>Alley</th>\n",
              "      <th>LotShape</th>\n",
              "      <th>LandContour</th>\n",
              "      <th>Utilities</th>\n",
              "      <th>...</th>\n",
              "      <th>PoolArea</th>\n",
              "      <th>PoolQC</th>\n",
              "      <th>Fence</th>\n",
              "      <th>MiscFeature</th>\n",
              "      <th>MiscVal</th>\n",
              "      <th>MoSold</th>\n",
              "      <th>YrSold</th>\n",
              "      <th>SaleType</th>\n",
              "      <th>SaleCondition</th>\n",
              "      <th>SalePrice</th>\n",
              "    </tr>\n",
              "  </thead>\n",
              "  <tbody>\n",
              "    <tr>\n",
              "      <th>0</th>\n",
              "      <td>1</td>\n",
              "      <td>60</td>\n",
              "      <td>RL</td>\n",
              "      <td>65.0</td>\n",
              "      <td>8450</td>\n",
              "      <td>Pave</td>\n",
              "      <td>NaN</td>\n",
              "      <td>Reg</td>\n",
              "      <td>Lvl</td>\n",
              "      <td>AllPub</td>\n",
              "      <td>...</td>\n",
              "      <td>0</td>\n",
              "      <td>NaN</td>\n",
              "      <td>NaN</td>\n",
              "      <td>NaN</td>\n",
              "      <td>0</td>\n",
              "      <td>2</td>\n",
              "      <td>2008</td>\n",
              "      <td>WD</td>\n",
              "      <td>Normal</td>\n",
              "      <td>208500</td>\n",
              "    </tr>\n",
              "    <tr>\n",
              "      <th>1</th>\n",
              "      <td>2</td>\n",
              "      <td>20</td>\n",
              "      <td>RL</td>\n",
              "      <td>80.0</td>\n",
              "      <td>9600</td>\n",
              "      <td>Pave</td>\n",
              "      <td>NaN</td>\n",
              "      <td>Reg</td>\n",
              "      <td>Lvl</td>\n",
              "      <td>AllPub</td>\n",
              "      <td>...</td>\n",
              "      <td>0</td>\n",
              "      <td>NaN</td>\n",
              "      <td>NaN</td>\n",
              "      <td>NaN</td>\n",
              "      <td>0</td>\n",
              "      <td>5</td>\n",
              "      <td>2007</td>\n",
              "      <td>WD</td>\n",
              "      <td>Normal</td>\n",
              "      <td>181500</td>\n",
              "    </tr>\n",
              "    <tr>\n",
              "      <th>2</th>\n",
              "      <td>3</td>\n",
              "      <td>60</td>\n",
              "      <td>RL</td>\n",
              "      <td>68.0</td>\n",
              "      <td>11250</td>\n",
              "      <td>Pave</td>\n",
              "      <td>NaN</td>\n",
              "      <td>IR1</td>\n",
              "      <td>Lvl</td>\n",
              "      <td>AllPub</td>\n",
              "      <td>...</td>\n",
              "      <td>0</td>\n",
              "      <td>NaN</td>\n",
              "      <td>NaN</td>\n",
              "      <td>NaN</td>\n",
              "      <td>0</td>\n",
              "      <td>9</td>\n",
              "      <td>2008</td>\n",
              "      <td>WD</td>\n",
              "      <td>Normal</td>\n",
              "      <td>223500</td>\n",
              "    </tr>\n",
              "    <tr>\n",
              "      <th>3</th>\n",
              "      <td>4</td>\n",
              "      <td>70</td>\n",
              "      <td>RL</td>\n",
              "      <td>60.0</td>\n",
              "      <td>9550</td>\n",
              "      <td>Pave</td>\n",
              "      <td>NaN</td>\n",
              "      <td>IR1</td>\n",
              "      <td>Lvl</td>\n",
              "      <td>AllPub</td>\n",
              "      <td>...</td>\n",
              "      <td>0</td>\n",
              "      <td>NaN</td>\n",
              "      <td>NaN</td>\n",
              "      <td>NaN</td>\n",
              "      <td>0</td>\n",
              "      <td>2</td>\n",
              "      <td>2006</td>\n",
              "      <td>WD</td>\n",
              "      <td>Abnorml</td>\n",
              "      <td>140000</td>\n",
              "    </tr>\n",
              "    <tr>\n",
              "      <th>4</th>\n",
              "      <td>5</td>\n",
              "      <td>60</td>\n",
              "      <td>RL</td>\n",
              "      <td>84.0</td>\n",
              "      <td>14260</td>\n",
              "      <td>Pave</td>\n",
              "      <td>NaN</td>\n",
              "      <td>IR1</td>\n",
              "      <td>Lvl</td>\n",
              "      <td>AllPub</td>\n",
              "      <td>...</td>\n",
              "      <td>0</td>\n",
              "      <td>NaN</td>\n",
              "      <td>NaN</td>\n",
              "      <td>NaN</td>\n",
              "      <td>0</td>\n",
              "      <td>12</td>\n",
              "      <td>2008</td>\n",
              "      <td>WD</td>\n",
              "      <td>Normal</td>\n",
              "      <td>250000</td>\n",
              "    </tr>\n",
              "  </tbody>\n",
              "</table>\n",
              "<p>5 rows × 81 columns</p>\n",
              "</div>"
            ],
            "text/plain": [
              "   Id  MSSubClass MSZoning  LotFrontage  LotArea Street Alley LotShape  \\\n",
              "0   1          60       RL         65.0     8450   Pave   NaN      Reg   \n",
              "1   2          20       RL         80.0     9600   Pave   NaN      Reg   \n",
              "2   3          60       RL         68.0    11250   Pave   NaN      IR1   \n",
              "3   4          70       RL         60.0     9550   Pave   NaN      IR1   \n",
              "4   5          60       RL         84.0    14260   Pave   NaN      IR1   \n",
              "\n",
              "  LandContour Utilities    ...     PoolArea PoolQC Fence MiscFeature MiscVal  \\\n",
              "0         Lvl    AllPub    ...            0    NaN   NaN         NaN       0   \n",
              "1         Lvl    AllPub    ...            0    NaN   NaN         NaN       0   \n",
              "2         Lvl    AllPub    ...            0    NaN   NaN         NaN       0   \n",
              "3         Lvl    AllPub    ...            0    NaN   NaN         NaN       0   \n",
              "4         Lvl    AllPub    ...            0    NaN   NaN         NaN       0   \n",
              "\n",
              "  MoSold YrSold  SaleType  SaleCondition  SalePrice  \n",
              "0      2   2008        WD         Normal     208500  \n",
              "1      5   2007        WD         Normal     181500  \n",
              "2      9   2008        WD         Normal     223500  \n",
              "3      2   2006        WD        Abnorml     140000  \n",
              "4     12   2008        WD         Normal     250000  \n",
              "\n",
              "[5 rows x 81 columns]"
            ]
          },
          "metadata": {
            "tags": []
          },
          "execution_count": 5
        }
      ]
    },
    {
      "metadata": {
        "_cell_guid": "74515972-f4a3-4877-9800-ded2ebf42c6a",
        "_execution_state": "idle",
        "_uuid": "b84bc7fa40cbc64e01e354b0a2ae95ca6480f288",
        "id": "U_R4o5JF5tDw",
        "colab_type": "code",
        "colab": {}
      },
      "cell_type": "code",
      "source": [
        "#train.info()"
      ],
      "execution_count": 0,
      "outputs": []
    },
    {
      "metadata": {
        "_cell_guid": "35ef1106-4156-48f3-a339-65fa3fa8388a",
        "_execution_state": "idle",
        "_uuid": "fafdb9cd9bffc4764746a104e597e4340e50699e",
        "id": "GgIZBJo-5tD9",
        "colab_type": "code",
        "colab": {}
      },
      "cell_type": "code",
      "source": [
        "#Threshold dropping of features, \n",
        "t = 0.8\n",
        "train = train.dropna(thresh = t * len(train),axis = 1)\n",
        "#train.info()"
      ],
      "execution_count": 0,
      "outputs": []
    },
    {
      "metadata": {
        "_cell_guid": "d5e51480-9c05-4841-b298-69cf68179241",
        "_execution_state": "idle",
        "_uuid": "9669f93dd1461e010942f9d0952a798a3b0dd06c",
        "id": "vk4Ucf0e5tEF",
        "colab_type": "code",
        "colab": {}
      },
      "cell_type": "code",
      "source": [
        "#train.info()"
      ],
      "execution_count": 0,
      "outputs": []
    },
    {
      "metadata": {
        "_cell_guid": "1ed85765-1a0a-484e-8ee4-1c8bd6550648",
        "_execution_state": "idle",
        "_uuid": "f97f2cfa8ee41af0ef626121942b7c4794c54c1a",
        "id": "FRkkvJ365tEO",
        "colab_type": "code",
        "colab": {
          "base_uri": "https://localhost:8080/",
          "height": 452
        },
        "outputId": "1fb67004-ddbb-427b-cc0a-9a6f3b2ef69d"
      },
      "cell_type": "code",
      "source": [
        "Y=train.iloc[:,-1]\n",
        "del train['SalePrice']\n",
        "del train['Id']\n",
        "sns.distplot(Y)\n",
        "plt.title('Distribution of Sale Prices')\n",
        "plt.show()"
      ],
      "execution_count": 7,
      "outputs": [
        {
          "output_type": "stream",
          "text": [
            "/usr/local/lib/python3.6/dist-packages/matplotlib/axes/_axes.py:6521: MatplotlibDeprecationWarning: \n",
            "The 'normed' kwarg was deprecated in Matplotlib 2.1 and will be removed in 3.1. Use 'density' instead.\n",
            "  alternative=\"'density'\", removal=\"3.1\")\n"
          ],
          "name": "stderr"
        },
        {
          "output_type": "display_data",
          "data": {
            "image/png": "[encoded data removed]",
            "text/plain": [
              "<Figure size 576x396 with 1 Axes>"
            ]
          },
          "metadata": {
            "tags": []
          }
        }
      ]
    },
    {
      "metadata": {
        "_cell_guid": "74a051d0-0695-427c-bc20-750fa875ade0",
        "_execution_state": "idle",
        "_uuid": "5094e4352654e2423b7c76ee546612ab76d5c14d",
        "id": "1vY7qivB5tEc",
        "colab_type": "code",
        "colab": {}
      },
      "cell_type": "code",
      "source": [
        "train_numeric=train.select_dtypes(include=['int64','float64'])\n",
        "#Use this for submission\n",
        "cols_num=train_numeric.columns\n",
        "#train_numeric.info()"
      ],
      "execution_count": 0,
      "outputs": []
    },
    {
      "metadata": {
        "_cell_guid": "1236576f-a63b-4904-a27f-78a44bd02070",
        "_execution_state": "idle",
        "_uuid": "63dc9567cbf1910ffa56813a7c020a2d83d55958",
        "id": "0VGtzSCV5tEr",
        "colab_type": "code",
        "colab": {}
      },
      "cell_type": "code",
      "source": [
        "train_numeric=train_numeric.fillna(train_numeric.median())\n",
        "#train_numeric.info()"
      ],
      "execution_count": 0,
      "outputs": []
    },
    {
      "metadata": {
        "_cell_guid": "bf206e1c-5942-4e71-9985-11ea2c6e5751",
        "_execution_state": "idle",
        "_uuid": "5cc1be4f8bb6545b1a396ba53f8b809764b15be6",
        "id": "PHe5BZYC5tE3",
        "colab_type": "code",
        "colab": {
          "base_uri": "https://localhost:8080/",
          "height": 391
        },
        "outputId": "660f4838-9f38-4fdd-b663-353e3f717b59"
      },
      "cell_type": "code",
      "source": [
        "#Extracts the features with the Ex-Gd-...-NA\n",
        "train_object=train.select_dtypes(include=['object'])\n",
        "cols=train_object.columns\n",
        "print(cols)\n",
        "qual=[]\n",
        "for feat in cols:\n",
        "    if train_object[feat].str.contains('Ex').any():\n",
        "        qual.append(feat)\n",
        "        pass\n",
        "    pass\n",
        "print(qual)\n",
        "train_qual=train_object[qual]\n",
        "qual_letter=['Ex','Gd','TA','Fa','Po','NA']\n",
        "qual_map={qual_letter[i]:i+1 for i in range(len(qual_letter))}\n",
        "train_qual=train_qual.replace(qual_map)\n",
        "train_qual=train_qual.fillna(train_qual.median())\n",
        "train_qual.info()"
      ],
      "execution_count": 10,
      "outputs": [
        {
          "output_type": "stream",
          "text": [
            "Index(['MSZoning', 'Street', 'LotShape', 'LandContour', 'Utilities',\n",
            "       'LotConfig', 'LandSlope', 'Neighborhood', 'Condition1', 'Condition2',\n",
            "       'BldgType', 'HouseStyle', 'RoofStyle', 'RoofMatl', 'Exterior1st',\n",
            "       'Exterior2nd', 'MasVnrType', 'ExterQual', 'ExterCond', 'Foundation',\n",
            "       'BsmtQual', 'BsmtCond', 'BsmtExposure', 'BsmtFinType1', 'BsmtFinType2',\n",
            "       'Heating', 'HeatingQC', 'CentralAir', 'Electrical', 'KitchenQual',\n",
            "       'Functional', 'GarageType', 'GarageFinish', 'GarageQual', 'GarageCond',\n",
            "       'PavedDrive', 'SaleType', 'SaleCondition'],\n",
            "      dtype='object')\n",
            "['ExterQual', 'ExterCond', 'BsmtQual', 'HeatingQC', 'KitchenQual', 'GarageQual', 'GarageCond']\n",
            "<class 'pandas.core.frame.DataFrame'>\n",
            "RangeIndex: 1460 entries, 0 to 1459\n",
            "Data columns (total 7 columns):\n",
            "ExterQual      1460 non-null int64\n",
            "ExterCond      1460 non-null int64\n",
            "BsmtQual       1460 non-null float64\n",
            "HeatingQC      1460 non-null int64\n",
            "KitchenQual    1460 non-null int64\n",
            "GarageQual     1460 non-null float64\n",
            "GarageCond     1460 non-null float64\n",
            "dtypes: float64(3), int64(4)\n",
            "memory usage: 79.9 KB\n"
          ],
          "name": "stdout"
        }
      ]
    },
    {
      "metadata": {
        "_cell_guid": "329cdba8-e468-4bf8-aafc-0ae62e2b98c5",
        "_execution_state": "idle",
        "_uuid": "28c478b5badfc69c6c9ac292a17546fc162d7f27",
        "id": "WjzPYILw5tE-",
        "colab_type": "code",
        "colab": {}
      },
      "cell_type": "code",
      "source": [
        "X=pd.concat([train_numeric,train_qual],1)\n",
        "#X.info()"
      ],
      "execution_count": 0,
      "outputs": []
    },
    {
      "metadata": {
        "_cell_guid": "841446e5-6676-493f-96a8-d0a6882a79b9",
        "_execution_state": "idle",
        "_uuid": "2d3b1e03d29d5db7355290e615edd3c849e93361",
        "id": "l1U96OIr5tFA",
        "colab_type": "code",
        "colab": {}
      },
      "cell_type": "code",
      "source": [
        "trainX,testX,trainY,testY = train_test_split(X,Y,test_size = 0.1,random_state = 1)"
      ],
      "execution_count": 0,
      "outputs": []
    },
    {
      "metadata": {
        "_cell_guid": "026202b8-d109-4d59-9732-4c949213dc07",
        "_execution_state": "idle",
        "_uuid": "f1380f458bb65b33b81f8c6822f17423ed535b68",
        "id": "Kiep6KDj5tFE",
        "colab_type": "code",
        "colab": {}
      },
      "cell_type": "code",
      "source": [
        "#A few useful functions\n",
        "def RMSE_CV(model,X,Y):\n",
        "  scoring = 'neg_mean_squared_error'\n",
        "  rmse_score = np.sqrt(-cross_val_score(model,X,Y,cv = 5,scoring=scoring))\n",
        "  \n",
        "  return rmse_score\n",
        "\n",
        "def Kaggle_score(predY,testY):\n",
        "  assert(len(predY)==len(testY))\n",
        "  n = len(predY)\n",
        "  predY = np.log(predY)\n",
        "  testY = np.log(testY)\n",
        "  t = np.sum((predY-testY)**2)\n",
        "#  print(t)\n",
        "  score = np.sqrt(t/n)\n",
        "  return score\n",
        "  \n",
        "def report(results, n_top=2):\n",
        "  for i in range(1, n_top + 1):\n",
        "    candidates = np.flatnonzero(results['rank_test_score'] == i)\n",
        "    for candidate in candidates:\n",
        "      print(\"Model with rank: {0}\".format(i))\n",
        "      print(\"Mean validation score: {0:.3f} (std: {1:.3f})\".format(\n",
        "            results['mean_test_score'][candidate],\n",
        "            results['std_test_score'][candidate]))\n",
        "      print(\"Parameters: {0}\".format(results['params'][candidate]))\n",
        "      print(\"\")\n",
        "            \n",
        "  pass"
      ],
      "execution_count": 0,
      "outputs": []
    },
    {
      "metadata": {
        "_cell_guid": "498d1d68-c540-48fd-932c-1891658a0649",
        "_execution_state": "idle",
        "_uuid": "5f7696e044ca58a14dab94b1404df4a9bfe442be",
        "collapsed": false,
        "id": "i5ulVQBq5tFM",
        "colab_type": "text"
      },
      "cell_type": "markdown",
      "source": [
        "Random forest, XGBoost regression testing"
      ]
    },
    {
      "metadata": {
        "_cell_guid": "4d6ab967-04ff-489b-9281-46682e93e549",
        "_execution_state": "idle",
        "_uuid": "5c50e37a4c45a3ca58182d48555b341100d51a86",
        "id": "LZE6lfya5tFN",
        "colab_type": "code",
        "colab": {
          "base_uri": "https://localhost:8080/",
          "height": 340
        },
        "outputId": "253fd1e1-94df-4888-bad9-3ea51bbc4706"
      },
      "cell_type": "code",
      "source": [
        "#Random forest regression, commented out\n",
        "regress = RandomForestRegressor(n_estimators=100)\n",
        "regress.fit(trainX,trainY)\n",
        "\n",
        "param_dist = {\n",
        "              'max_depth':[i for i in range(10,50,4)]+[None],\n",
        "              \"max_features\": ['sqrt','log2']\n",
        "              }\n",
        "#Parameters: {'max_depth': 22, 'max_features': 'sqrt'}\n",
        "regress_grid = GridSearchCV(regress, param_grid=param_dist,cv=5,scoring = 'neg_mean_squared_error',verbose=1)\n",
        "print('Starting GridSearchCV')\n",
        "start = time()\n",
        "regress_grid.fit(X,Y)\n",
        "print(\"GridSearchCV took %.2f seconds.\" % (time() - start))\n",
        "report(regress_grid.cv_results_)\n",
        "\n",
        "regress.set_params(**regress_grid.best_params_)\n",
        "regress.fit(trainX,trainY)"
      ],
      "execution_count": 15,
      "outputs": [
        {
          "output_type": "stream",
          "text": [
            "Starting GridSearchCV\n",
            "Fitting 5 folds for each of 22 candidates, totalling 110 fits\n"
          ],
          "name": "stdout"
        },
        {
          "output_type": "stream",
          "text": [
            "[Parallel(n_jobs=1)]: Using backend SequentialBackend with 1 concurrent workers.\n",
            "[Parallel(n_jobs=1)]: Done 110 out of 110 | elapsed:   32.5s finished\n"
          ],
          "name": "stderr"
        },
        {
          "output_type": "stream",
          "text": [
            "GridSearchCV took 32.81 seconds.\n",
            "Model with rank: 1\n",
            "Mean validation score: -849454720.535 (std: 228893314.584)\n",
            "Parameters: {'max_depth': None, 'max_features': 'sqrt'}\n",
            "\n",
            "Model with rank: 2\n",
            "Mean validation score: -869230051.336 (std: 257505643.527)\n",
            "Parameters: {'max_depth': 38, 'max_features': 'log2'}\n",
            "\n"
          ],
          "name": "stdout"
        },
        {
          "output_type": "execute_result",
          "data": {
            "text/plain": [
              "RandomForestRegressor(bootstrap=True, criterion='mse', max_depth=None,\n",
              "           max_features='sqrt', max_leaf_nodes=None,\n",
              "           min_impurity_decrease=0.0, min_impurity_split=None,\n",
              "           min_samples_leaf=1, min_samples_split=2,\n",
              "           min_weight_fraction_leaf=0.0, n_estimators=100, n_jobs=None,\n",
              "           oob_score=False, random_state=None, verbose=0, warm_start=False)"
            ]
          },
          "metadata": {
            "tags": []
          },
          "execution_count": 15
        }
      ]
    },
    {
      "metadata": {
        "_cell_guid": "ff716a7e-d6db-4ce7-ad75-ac220b2b6b47",
        "_execution_state": "idle",
        "_uuid": "5f14c298924888ed121787bd4523c268dfc33f14",
        "id": "5UlhDssA5tFS",
        "colab_type": "code",
        "colab": {
          "base_uri": "https://localhost:8080/",
          "height": 34
        },
        "outputId": "27ab4862-d6a5-42ea-ada8-1b9e7ac6da4d"
      },
      "cell_type": "code",
      "source": [
        "predY=regress.predict(testX)\n",
        "score = Kaggle_score(predY,testY)\n",
        "print('Expected Kaggle score(Lower is better): ', score)\n"
      ],
      "execution_count": 16,
      "outputs": [
        {
          "output_type": "stream",
          "text": [
            "Expected Kaggle score(Lower is better):  0.14940049835995758\n"
          ],
          "name": "stdout"
        }
      ]
    },
    {
      "metadata": {
        "_cell_guid": "a1734384-aa7d-446f-806f-cecbc2769f64",
        "_execution_state": "idle",
        "_uuid": "c2172031694efef95c3fc201044c9464794e1a73",
        "id": "3NSmwo4A5tFU",
        "colab_type": "code",
        "colab": {
          "base_uri": "https://localhost:8080/",
          "height": 401
        },
        "outputId": "2dfee947-3ab1-4756-946d-679274c944cd"
      },
      "cell_type": "code",
      "source": [
        "feats=pd.DataFrame(regress.feature_importances_,index=trainX.columns)\n",
        "sort_feats=feats.sort_values(0,ascending=True)\n",
        "sort_feats.plot(kind='barh',title='Feature importances')\n",
        "plt.tight_layout()\n",
        "plt.show()"
      ],
      "execution_count": 17,
      "outputs": [
        {
          "output_type": "display_data",
          "data": {
            "image/png": "[encoded data removed]",
            "text/plain": [
              "<Figure size 576x396 with 1 Axes>"
            ]
          },
          "metadata": {
            "tags": []
          }
        }
      ]
    },
    {
      "metadata": {
        "_cell_guid": "971fd5cc-7362-4cee-bb93-f71f2c357236",
        "_execution_state": "idle",
        "_uuid": "18f20f88195b8409216f63d2fd436054707bc218",
        "id": "zWfDl-RC5tFZ",
        "colab_type": "code",
        "colab": {
          "base_uri": "https://localhost:8080/",
          "height": 493
        },
        "outputId": "07242112-6ce8-4726-8e61-2f4d84782201"
      },
      "cell_type": "code",
      "source": [
        "print(trainX.columns)\n",
        "print(test.columns)\n",
        "#Fill NA values with train values NOT Sub or test\n",
        "#Extract numeric\n",
        "sub_numeric=test[cols_num]\n",
        "sub_numeric=sub_numeric.fillna(train_numeric.median())\n",
        "#Extract quality\n",
        "sub_qual=test[qual]\n",
        "sub_qual=sub_qual.replace(qual_map)\n",
        "sub_qual=sub_qual.fillna(train_qual.median())"
      ],
      "execution_count": 18,
      "outputs": [
        {
          "output_type": "stream",
          "text": [
            "Index(['MSSubClass', 'LotFrontage', 'LotArea', 'OverallQual', 'OverallCond',\n",
            "       'YearBuilt', 'YearRemodAdd', 'MasVnrArea', 'BsmtFinSF1', 'BsmtFinSF2',\n",
            "       'BsmtUnfSF', 'TotalBsmtSF', '1stFlrSF', '2ndFlrSF', 'LowQualFinSF',\n",
            "       'GrLivArea', 'BsmtFullBath', 'BsmtHalfBath', 'FullBath', 'HalfBath',\n",
            "       'BedroomAbvGr', 'KitchenAbvGr', 'TotRmsAbvGrd', 'Fireplaces',\n",
            "       'GarageYrBlt', 'GarageCars', 'GarageArea', 'WoodDeckSF', 'OpenPorchSF',\n",
            "       'EnclosedPorch', '3SsnPorch', 'ScreenPorch', 'PoolArea', 'MiscVal',\n",
            "       'MoSold', 'YrSold', 'ExterQual', 'ExterCond', 'BsmtQual', 'HeatingQC',\n",
            "       'KitchenQual', 'GarageQual', 'GarageCond'],\n",
            "      dtype='object')\n",
            "Index(['Id', 'MSSubClass', 'MSZoning', 'LotFrontage', 'LotArea', 'Street',\n",
            "       'Alley', 'LotShape', 'LandContour', 'Utilities', 'LotConfig',\n",
            "       'LandSlope', 'Neighborhood', 'Condition1', 'Condition2', 'BldgType',\n",
            "       'HouseStyle', 'OverallQual', 'OverallCond', 'YearBuilt', 'YearRemodAdd',\n",
            "       'RoofStyle', 'RoofMatl', 'Exterior1st', 'Exterior2nd', 'MasVnrType',\n",
            "       'MasVnrArea', 'ExterQual', 'ExterCond', 'Foundation', 'BsmtQual',\n",
            "       'BsmtCond', 'BsmtExposure', 'BsmtFinType1', 'BsmtFinSF1',\n",
            "       'BsmtFinType2', 'BsmtFinSF2', 'BsmtUnfSF', 'TotalBsmtSF', 'Heating',\n",
            "       'HeatingQC', 'CentralAir', 'Electrical', '1stFlrSF', '2ndFlrSF',\n",
            "       'LowQualFinSF', 'GrLivArea', 'BsmtFullBath', 'BsmtHalfBath', 'FullBath',\n",
            "       'HalfBath', 'BedroomAbvGr', 'KitchenAbvGr', 'KitchenQual',\n",
            "       'TotRmsAbvGrd', 'Functional', 'Fireplaces', 'FireplaceQu', 'GarageType',\n",
            "       'GarageYrBlt', 'GarageFinish', 'GarageCars', 'GarageArea', 'GarageQual',\n",
            "       'GarageCond', 'PavedDrive', 'WoodDeckSF', 'OpenPorchSF',\n",
            "       'EnclosedPorch', '3SsnPorch', 'ScreenPorch', 'PoolArea', 'PoolQC',\n",
            "       'Fence', 'MiscFeature', 'MiscVal', 'MoSold', 'YrSold', 'SaleType',\n",
            "       'SaleCondition'],\n",
            "      dtype='object')\n"
          ],
          "name": "stdout"
        }
      ]
    },
    {
      "metadata": {
        "_cell_guid": "7f36a830-16a0-4865-9e5a-8621b5d0f8e6",
        "_execution_state": "idle",
        "_uuid": "94298d23fde837bb75004d9089aca7191a8f51ba",
        "id": "92uUkHPD5tFh",
        "colab_type": "code",
        "colab": {
          "base_uri": "https://localhost:8080/",
          "height": 833
        },
        "outputId": "20905437-8a79-4fca-bab6-88e375da18db"
      },
      "cell_type": "code",
      "source": [
        "subX=pd.concat([sub_numeric,sub_qual],1)\n",
        "subX.info()"
      ],
      "execution_count": 19,
      "outputs": [
        {
          "output_type": "stream",
          "text": [
            "<class 'pandas.core.frame.DataFrame'>\n",
            "RangeIndex: 1459 entries, 0 to 1458\n",
            "Data columns (total 43 columns):\n",
            "MSSubClass       1459 non-null int64\n",
            "LotFrontage      1459 non-null float64\n",
            "LotArea          1459 non-null int64\n",
            "OverallQual      1459 non-null int64\n",
            "OverallCond      1459 non-null int64\n",
            "YearBuilt        1459 non-null int64\n",
            "YearRemodAdd     1459 non-null int64\n",
            "MasVnrArea       1459 non-null float64\n",
            "BsmtFinSF1       1459 non-null float64\n",
            "BsmtFinSF2       1459 non-null float64\n",
            "BsmtUnfSF        1459 non-null float64\n",
            "TotalBsmtSF      1459 non-null float64\n",
            "1stFlrSF         1459 non-null int64\n",
            "2ndFlrSF         1459 non-null int64\n",
            "LowQualFinSF     1459 non-null int64\n",
            "GrLivArea        1459 non-null int64\n",
            "BsmtFullBath     1459 non-null float64\n",
            "BsmtHalfBath     1459 non-null float64\n",
            "FullBath         1459 non-null int64\n",
            "HalfBath         1459 non-null int64\n",
            "BedroomAbvGr     1459 non-null int64\n",
            "KitchenAbvGr     1459 non-null int64\n",
            "TotRmsAbvGrd     1459 non-null int64\n",
            "Fireplaces       1459 non-null int64\n",
            "GarageYrBlt      1459 non-null float64\n",
            "GarageCars       1459 non-null float64\n",
            "GarageArea       1459 non-null float64\n",
            "WoodDeckSF       1459 non-null int64\n",
            "OpenPorchSF      1459 non-null int64\n",
            "EnclosedPorch    1459 non-null int64\n",
            "3SsnPorch        1459 non-null int64\n",
            "ScreenPorch      1459 non-null int64\n",
            "PoolArea         1459 non-null int64\n",
            "MiscVal          1459 non-null int64\n",
            "MoSold           1459 non-null int64\n",
            "YrSold           1459 non-null int64\n",
            "ExterQual        1459 non-null int64\n",
            "ExterCond        1459 non-null int64\n",
            "BsmtQual         1459 non-null float64\n",
            "HeatingQC        1459 non-null int64\n",
            "KitchenQual      1459 non-null float64\n",
            "GarageQual       1459 non-null float64\n",
            "GarageCond       1459 non-null float64\n",
            "dtypes: float64(15), int64(28)\n",
            "memory usage: 490.2 KB\n"
          ],
          "name": "stdout"
        }
      ]
    },
    {
      "metadata": {
        "_cell_guid": "5eb17ecc-d309-4605-b587-067d17bcc821",
        "_execution_state": "idle",
        "_uuid": "03ca8a5902c00d33b3fae6d488dbc0cb5e58829e",
        "id": "wCM14cPK5tFk",
        "colab_type": "code",
        "colab": {
          "base_uri": "https://localhost:8080/",
          "height": 51
        },
        "outputId": "027da734-e9e3-4015-a8c0-8b37294b944f"
      },
      "cell_type": "code",
      "source": [
        "subY = regress.predict(subX)\n",
        "subY[subY<=0]= 1\n",
        "#Exporting to CSV,DONT DELETE\n",
        "print('Exporting to CSV')\n",
        "EXP = pd.DataFrame(subY,index = [i for i in range(1461,2919+1)],columns=['SalePrice'])\n",
        "EXP.index.name = 'Id'\n",
        "filename = 'Boston_RFRAllD.csv'\n",
        "EXP.to_csv(filename)\n",
        "print('Finished, fname: ',filename )"
      ],
      "execution_count": 21,
      "outputs": [
        {
          "output_type": "stream",
          "text": [
            "Exporting to CSV\n",
            "Finished, fname:  Boston_RFRAllD.csv\n"
          ],
          "name": "stdout"
        }
      ]
    },
    {
      "metadata": {
        "_cell_guid": "a2b500fa-cbfa-47a7-88e2-0e5ab4ab9211",
        "_execution_state": "idle",
        "_uuid": "a1482af99a2e9495a3d54390504552824e3e83da",
        "id": "LPFfLCSu5tFr",
        "colab_type": "code",
        "colab": {}
      },
      "cell_type": "code",
      "source": [
        ""
      ],
      "execution_count": 0,
      "outputs": []
    }
  ]
}