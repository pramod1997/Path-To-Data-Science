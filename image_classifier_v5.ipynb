{
  "nbformat": 4,
  "nbformat_minor": 0,
  "metadata": {
    "colab": {
      "name": "image_classifier_v5.ipynb",
      "version": "0.3.2",
      "provenance": [],
      "collapsed_sections": [],
      "include_colab_link": true
    },
    "kernelspec": {
      "name": "python3",
      "display_name": "Python 3"
    },
    "accelerator": "GPU"
  },
  "cells": [
    {
      "cell_type": "markdown",
      "metadata": {
        "id": "view-in-github",
        "colab_type": "text"
      },
      "source": [
        "<a href=\"https://colab.research.google.com/github/pramod1997/Path-To-Data-Science/blob/master/image_classifier_v5.ipynb\" target=\"_parent\"><img src=\"https://colab.research.google.com/assets/colab-badge.svg\" alt=\"Open In Colab\"/></a>"
      ]
    },
    {
      "metadata": {
        "id": "KOohXPTUw0ai",
        "colab_type": "code",
        "colab": {}
      },
      "cell_type": "code",
      "source": [
        "# improvement from prev version  -> batch norm  \n",
        "# 4st attempt on image classification  cifar10 \n",
        "# \n",
        "# % test accuracy :-< 81 percent , still overfitting\n"
      ],
      "execution_count": 0,
      "outputs": []
    },
    {
      "metadata": {
        "id": "8Dqt_zRJyUZz",
        "colab_type": "code",
        "outputId": "d6249a3a-065d-4fe0-d4c4-26dd28f4d053",
        "colab": {
          "base_uri": "https://localhost:8080/",
          "height": 34
        }
      },
      "cell_type": "code",
      "source": [
        "import pandas as pd\n",
        "import numpy as np\n",
        "import keras \n",
        "from sklearn.preprocessing import OneHotEncoder\n",
        "from sklearn.preprocessing import StandardScaler\n",
        "import cv2 as cv2"
      ],
      "execution_count": 1,
      "outputs": [
        {
          "output_type": "stream",
          "text": [
            "Using TensorFlow backend.\n"
          ],
          "name": "stderr"
        }
      ]
    },
    {
      "metadata": {
        "id": "lnv_S-jOw9pn",
        "colab_type": "code",
        "colab": {}
      },
      "cell_type": "code",
      "source": [
        "from keras.preprocessing.image import ImageDataGenerator\n",
        "from keras.layers import Dense ,Input , Flatten ,Conv2D ,Activation  , MaxPooling2D , Dropout, BatchNormalization\n",
        "from keras.models import Sequential"
      ],
      "execution_count": 0,
      "outputs": []
    },
    {
      "metadata": {
        "id": "HL3o9d0Xz4Mg",
        "colab_type": "code",
        "colab": {}
      },
      "cell_type": "code",
      "source": [
        "from keras.datasets import cifar10"
      ],
      "execution_count": 0,
      "outputs": []
    },
    {
      "metadata": {
        "id": "PPnE2GmRsZyK",
        "colab_type": "code",
        "colab": {}
      },
      "cell_type": "code",
      "source": [
        "data_augementation = False  # we will use this later"
      ],
      "execution_count": 0,
      "outputs": []
    },
    {
      "metadata": {
        "id": "BKxq6ZNaxVR0",
        "colab_type": "code",
        "colab": {
          "base_uri": "https://localhost:8080/",
          "height": 51
        },
        "outputId": "3d5f430b-cbad-42ec-a6e8-ffb7fa40abf0"
      },
      "cell_type": "code",
      "source": [
        "((train_image , train_labels) , (test_image , test_labels)) = cifar10.load_data()"
      ],
      "execution_count": 5,
      "outputs": [
        {
          "output_type": "stream",
          "text": [
            "Downloading data from https://www.cs.toronto.edu/~kriz/cifar-10-python.tar.gz\n",
            "170500096/170498071 [==============================] - 34s 0us/step\n"
          ],
          "name": "stdout"
        }
      ]
    },
    {
      "metadata": {
        "id": "ihcn6wlcE9Pf",
        "colab_type": "code",
        "colab": {}
      },
      "cell_type": "code",
      "source": [
        "# Convert class vectors to binary class matrices.\n",
        "num_classes =10 # 10  labels are present \n",
        "train_labels = keras.utils.to_categorical(train_labels, num_classes)\n",
        "test_labels = keras.utils.to_categorical(test_labels, num_classes)"
      ],
      "execution_count": 0,
      "outputs": []
    },
    {
      "metadata": {
        "id": "Ap0ICRD4GE_3",
        "colab_type": "code",
        "outputId": "d0dd6200-d4ec-4f98-86bb-b22f85695372",
        "colab": {
          "base_uri": "https://localhost:8080/",
          "height": 136
        }
      },
      "cell_type": "code",
      "source": [
        "test_labels  ### one hot encoding"
      ],
      "execution_count": 7,
      "outputs": [
        {
          "output_type": "execute_result",
          "data": {
            "text/plain": [
              "array([[0., 0., 0., ..., 0., 0., 0.],\n",
              "       [0., 0., 0., ..., 0., 1., 0.],\n",
              "       [0., 0., 0., ..., 0., 1., 0.],\n",
              "       ...,\n",
              "       [0., 0., 0., ..., 0., 0., 0.],\n",
              "       [0., 1., 0., ..., 0., 0., 0.],\n",
              "       [0., 0., 0., ..., 1., 0., 0.]], dtype=float32)"
            ]
          },
          "metadata": {
            "tags": []
          },
          "execution_count": 7
        }
      ]
    },
    {
      "metadata": {
        "id": "QnHvgDBcI9y9",
        "colab_type": "code",
        "outputId": "66330c37-9306-4adb-a842-47a54d8855ac",
        "colab": {
          "base_uri": "https://localhost:8080/",
          "height": 238
        }
      },
      "cell_type": "code",
      "source": [
        "# eda \n",
        "train_image.shape , test_image.shape  , train_labels , test_labels"
      ],
      "execution_count": 8,
      "outputs": [
        {
          "output_type": "execute_result",
          "data": {
            "text/plain": [
              "((50000, 32, 32, 3), (10000, 32, 32, 3), array([[0., 0., 0., ..., 0., 0., 0.],\n",
              "        [0., 0., 0., ..., 0., 0., 1.],\n",
              "        [0., 0., 0., ..., 0., 0., 1.],\n",
              "        ...,\n",
              "        [0., 0., 0., ..., 0., 0., 1.],\n",
              "        [0., 1., 0., ..., 0., 0., 0.],\n",
              "        [0., 1., 0., ..., 0., 0., 0.]], dtype=float32), array([[0., 0., 0., ..., 0., 0., 0.],\n",
              "        [0., 0., 0., ..., 0., 1., 0.],\n",
              "        [0., 0., 0., ..., 0., 1., 0.],\n",
              "        ...,\n",
              "        [0., 0., 0., ..., 0., 0., 0.],\n",
              "        [0., 1., 0., ..., 0., 0., 0.],\n",
              "        [0., 0., 0., ..., 1., 0., 0.]], dtype=float32))"
            ]
          },
          "metadata": {
            "tags": []
          },
          "execution_count": 8
        }
      ]
    },
    {
      "metadata": {
        "id": "wOtG03POta8R",
        "colab_type": "code",
        "colab": {}
      },
      "cell_type": "code",
      "source": [
        "train_image = train_image.astype('float32')\n",
        "test_image = test_image.astype('float32')\n",
        "train_image/=255\n",
        "test_image/=255"
      ],
      "execution_count": 0,
      "outputs": []
    },
    {
      "metadata": {
        "id": "zjcpi2kkxdko",
        "colab_type": "code",
        "colab": {
          "base_uri": "https://localhost:8080/",
          "height": 139
        },
        "outputId": "42535f60-a3a3-4942-ea36-d9dd7ad4c983"
      },
      "cell_type": "code",
      "source": [
        "### model \n",
        "model = Sequential()\n",
        "\n",
        "model.add(Conv2D( filters = 32 , kernel_size = (3,3), padding='same' , input_shape=(32,32,3)))\n",
        "model.add(Activation('relu'))\n",
        "\n",
        "\n",
        "model.add(Conv2D( filters = 32 , kernel_size = (3,3), padding='same' ))\n",
        "model.add(Activation('relu'))\n",
        "\n",
        "\n",
        "model.add(MaxPooling2D(pool_size =(2,2)))\n",
        "model.add(BatchNormalization())   ###  add after pooling layer \n",
        "model.add(Dropout(0.25))\n",
        "\n",
        "\n",
        "model.add(Conv2D( filters = 64 , kernel_size = (3,3), padding='same'))\n",
        "model.add(Activation('relu'))\n",
        "\n",
        "\n",
        "model.add(Conv2D( filters = 64 , kernel_size = (3,3), padding='same'))\n",
        "model.add(Activation('relu'))\n",
        "\n",
        "\n",
        "model.add(MaxPooling2D(pool_size =(2,2)))\n",
        "model.add(BatchNormalization())\n",
        "model.add(Dropout(0.25))\n",
        "\n",
        "\n",
        "\n",
        "\n",
        "\n",
        "model.add(Flatten())\n",
        "\n",
        "model.add(Dense(512, activation = 'relu'))\n",
        "model.add(Dropout(0.5))\n",
        "\n",
        "model.add(Dense(10, activation = 'softmax'))"
      ],
      "execution_count": 10,
      "outputs": [
        {
          "output_type": "stream",
          "text": [
            "WARNING:tensorflow:From /usr/local/lib/python3.6/dist-packages/tensorflow/python/framework/op_def_library.py:263: colocate_with (from tensorflow.python.framework.ops) is deprecated and will be removed in a future version.\n",
            "Instructions for updating:\n",
            "Colocations handled automatically by placer.\n",
            "WARNING:tensorflow:From /usr/local/lib/python3.6/dist-packages/keras/backend/tensorflow_backend.py:3445: calling dropout (from tensorflow.python.ops.nn_ops) with keep_prob is deprecated and will be removed in a future version.\n",
            "Instructions for updating:\n",
            "Please use `rate` instead of `keep_prob`. Rate should be set to `rate = 1 - keep_prob`.\n"
          ],
          "name": "stdout"
        }
      ]
    },
    {
      "metadata": {
        "id": "hBNUtp8MxsBa",
        "colab_type": "code",
        "colab": {}
      },
      "cell_type": "code",
      "source": [
        "model.compile(optimizer = 'adam' , \n",
        "             loss= 'categorical_crossentropy',\n",
        "             metrics = ['accuracy'])\n"
      ],
      "execution_count": 0,
      "outputs": []
    },
    {
      "metadata": {
        "id": "vF4IECOH_LdY",
        "colab_type": "code",
        "outputId": "40abd2fa-1061-4cec-8d0f-c4f8961dcefb",
        "colab": {
          "base_uri": "https://localhost:8080/",
          "height": 748
        }
      },
      "cell_type": "code",
      "source": [
        "model.summary()"
      ],
      "execution_count": 12,
      "outputs": [
        {
          "output_type": "stream",
          "text": [
            "_________________________________________________________________\n",
            "Layer (type)                 Output Shape              Param #   \n",
            "=================================================================\n",
            "conv2d_1 (Conv2D)            (None, 32, 32, 32)        896       \n",
            "_________________________________________________________________\n",
            "activation_1 (Activation)    (None, 32, 32, 32)        0         \n",
            "_________________________________________________________________\n",
            "conv2d_2 (Conv2D)            (None, 32, 32, 32)        9248      \n",
            "_________________________________________________________________\n",
            "activation_2 (Activation)    (None, 32, 32, 32)        0         \n",
            "_________________________________________________________________\n",
            "max_pooling2d_1 (MaxPooling2 (None, 16, 16, 32)        0         \n",
            "_________________________________________________________________\n",
            "batch_normalization_1 (Batch (None, 16, 16, 32)        128       \n",
            "_________________________________________________________________\n",
            "dropout_1 (Dropout)          (None, 16, 16, 32)        0         \n",
            "_________________________________________________________________\n",
            "conv2d_3 (Conv2D)            (None, 16, 16, 64)        18496     \n",
            "_________________________________________________________________\n",
            "activation_3 (Activation)    (None, 16, 16, 64)        0         \n",
            "_________________________________________________________________\n",
            "conv2d_4 (Conv2D)            (None, 16, 16, 64)        36928     \n",
            "_________________________________________________________________\n",
            "activation_4 (Activation)    (None, 16, 16, 64)        0         \n",
            "_________________________________________________________________\n",
            "max_pooling2d_2 (MaxPooling2 (None, 8, 8, 64)          0         \n",
            "_________________________________________________________________\n",
            "batch_normalization_2 (Batch (None, 8, 8, 64)          256       \n",
            "_________________________________________________________________\n",
            "dropout_2 (Dropout)          (None, 8, 8, 64)          0         \n",
            "_________________________________________________________________\n",
            "flatten_1 (Flatten)          (None, 4096)              0         \n",
            "_________________________________________________________________\n",
            "dense_1 (Dense)              (None, 512)               2097664   \n",
            "_________________________________________________________________\n",
            "dropout_3 (Dropout)          (None, 512)               0         \n",
            "_________________________________________________________________\n",
            "dense_2 (Dense)              (None, 10)                5130      \n",
            "=================================================================\n",
            "Total params: 2,168,746\n",
            "Trainable params: 2,168,554\n",
            "Non-trainable params: 192\n",
            "_________________________________________________________________\n"
          ],
          "name": "stdout"
        }
      ]
    },
    {
      "metadata": {
        "id": "NHSYn--I_nrY",
        "colab_type": "code",
        "outputId": "f48818bd-5d64-4259-d5ea-c6395576c37a",
        "colab": {
          "base_uri": "https://localhost:8080/",
          "height": 34
        }
      },
      "cell_type": "code",
      "source": [
        "train_image.shape , train_labels.shape  ## label shape changed for multiclass classification "
      ],
      "execution_count": 13,
      "outputs": [
        {
          "output_type": "execute_result",
          "data": {
            "text/plain": [
              "((50000, 32, 32, 3), (50000, 10))"
            ]
          },
          "metadata": {
            "tags": []
          },
          "execution_count": 13
        }
      ]
    },
    {
      "metadata": {
        "id": "HAXH2njpAMkz",
        "colab_type": "code",
        "colab": {}
      },
      "cell_type": "code",
      "source": [
        "# real time augementation on the data \n",
        "datagenerator = ImageDataGenerator()\n",
        "datagenerator.fit(train_image)\n",
        "#(x_train , y_train) = datagenerator.flow(train_image,train_labels, batch_size =32)\n",
        "\n",
        "\n",
        "\n"
      ],
      "execution_count": 0,
      "outputs": []
    },
    {
      "metadata": {
        "id": "7xPHHVBdycQR",
        "colab_type": "code",
        "outputId": "b67b0189-3e58-4d9c-b405-e43aae0d1ab0",
        "colab": {
          "base_uri": "https://localhost:8080/",
          "height": 3539
        }
      },
      "cell_type": "code",
      "source": [
        "#model.fit(train_image , train_labels, epochs = 100)  \n",
        "model.fit_generator(datagenerator.flow(train_image,train_labels, batch_size =32) ,\n",
        "                    samples_per_epoch = len(train_image),epochs =100)   ## fit genrator because the images cant fit in memory"
      ],
      "execution_count": 15,
      "outputs": [
        {
          "output_type": "stream",
          "text": [
            "WARNING:tensorflow:From /usr/local/lib/python3.6/dist-packages/tensorflow/python/ops/math_ops.py:3066: to_int32 (from tensorflow.python.ops.math_ops) is deprecated and will be removed in a future version.\n",
            "Instructions for updating:\n",
            "Use tf.cast instead.\n"
          ],
          "name": "stdout"
        },
        {
          "output_type": "stream",
          "text": [
            "/usr/local/lib/python3.6/dist-packages/ipykernel_launcher.py:2: UserWarning: Update your `fit_generator` call to the Keras 2 API: `fit_generator(<keras_pre..., epochs=100, steps_per_epoch=1562)`\n",
            "  \n"
          ],
          "name": "stderr"
        },
        {
          "output_type": "stream",
          "text": [
            "Epoch 1/100\n",
            "1562/1562 [==============================] - 36s 23ms/step - loss: 1.5104 - acc: 0.4695\n",
            "Epoch 2/100\n",
            "1562/1562 [==============================] - 31s 20ms/step - loss: 1.1004 - acc: 0.6149\n",
            "Epoch 3/100\n",
            "1562/1562 [==============================] - 31s 20ms/step - loss: 0.9328 - acc: 0.6715\n",
            "Epoch 4/100\n",
            "1562/1562 [==============================] - 31s 20ms/step - loss: 0.8306 - acc: 0.7104\n",
            "Epoch 5/100\n",
            "1562/1562 [==============================] - 31s 20ms/step - loss: 0.7447 - acc: 0.7387\n",
            "Epoch 6/100\n",
            "1562/1562 [==============================] - 32s 20ms/step - loss: 0.6883 - acc: 0.7593\n",
            "Epoch 7/100\n",
            "1562/1562 [==============================] - 31s 20ms/step - loss: 0.6265 - acc: 0.7805\n",
            "Epoch 8/100\n",
            "1562/1562 [==============================] - 31s 20ms/step - loss: 0.5799 - acc: 0.7991\n",
            "Epoch 9/100\n",
            "1562/1562 [==============================] - 30s 19ms/step - loss: 0.5403 - acc: 0.8122\n",
            "Epoch 10/100\n",
            "1562/1562 [==============================] - 30s 19ms/step - loss: 0.5062 - acc: 0.8231\n",
            "Epoch 11/100\n",
            "1562/1562 [==============================] - 31s 20ms/step - loss: 0.4678 - acc: 0.8370\n",
            "Epoch 12/100\n",
            "1562/1562 [==============================] - 31s 20ms/step - loss: 0.4394 - acc: 0.8457\n",
            "Epoch 13/100\n",
            "1562/1562 [==============================] - 31s 20ms/step - loss: 0.4144 - acc: 0.8574\n",
            "Epoch 14/100\n",
            "1562/1562 [==============================] - 31s 20ms/step - loss: 0.3914 - acc: 0.8634\n",
            "Epoch 15/100\n",
            "1562/1562 [==============================] - 30s 19ms/step - loss: 0.3682 - acc: 0.8721\n",
            "Epoch 16/100\n",
            "1562/1562 [==============================] - 31s 20ms/step - loss: 0.3505 - acc: 0.8794\n",
            "Epoch 17/100\n",
            "1562/1562 [==============================] - 30s 19ms/step - loss: 0.3353 - acc: 0.8844\n",
            "Epoch 18/100\n",
            "1562/1562 [==============================] - 30s 19ms/step - loss: 0.3235 - acc: 0.8881\n",
            "Epoch 19/100\n",
            "1562/1562 [==============================] - 31s 20ms/step - loss: 0.3113 - acc: 0.8915\n",
            "Epoch 20/100\n",
            "1562/1562 [==============================] - 31s 20ms/step - loss: 0.2995 - acc: 0.8958\n",
            "Epoch 21/100\n",
            "1562/1562 [==============================] - 30s 19ms/step - loss: 0.2854 - acc: 0.9011\n",
            "Epoch 22/100\n",
            "1562/1562 [==============================] - 30s 19ms/step - loss: 0.2794 - acc: 0.9020\n",
            "Epoch 23/100\n",
            "1562/1562 [==============================] - 30s 19ms/step - loss: 0.2746 - acc: 0.9052\n",
            "Epoch 24/100\n",
            "1562/1562 [==============================] - 30s 19ms/step - loss: 0.2644 - acc: 0.9086\n",
            "Epoch 25/100\n",
            "1562/1562 [==============================] - 29s 19ms/step - loss: 0.2567 - acc: 0.9122\n",
            "Epoch 26/100\n",
            "1562/1562 [==============================] - 30s 19ms/step - loss: 0.2509 - acc: 0.9121\n",
            "Epoch 27/100\n",
            "1562/1562 [==============================] - 30s 19ms/step - loss: 0.2442 - acc: 0.9173\n",
            "Epoch 28/100\n",
            "1562/1562 [==============================] - 30s 19ms/step - loss: 0.2374 - acc: 0.9194\n",
            "Epoch 29/100\n",
            "1562/1562 [==============================] - 30s 19ms/step - loss: 0.2359 - acc: 0.9185\n",
            "Epoch 30/100\n",
            "1562/1562 [==============================] - 29s 19ms/step - loss: 0.2281 - acc: 0.9219\n",
            "Epoch 31/100\n",
            "1562/1562 [==============================] - 29s 18ms/step - loss: 0.2238 - acc: 0.9242\n",
            "Epoch 32/100\n",
            "1562/1562 [==============================] - 29s 19ms/step - loss: 0.2194 - acc: 0.9256\n",
            "Epoch 33/100\n",
            "1562/1562 [==============================] - 31s 20ms/step - loss: 0.2107 - acc: 0.9285\n",
            "Epoch 34/100\n",
            "1562/1562 [==============================] - 31s 20ms/step - loss: 0.2138 - acc: 0.9269\n",
            "Epoch 35/100\n",
            "1562/1562 [==============================] - 31s 20ms/step - loss: 0.2112 - acc: 0.9283\n",
            "Epoch 36/100\n",
            "1562/1562 [==============================] - 30s 19ms/step - loss: 0.2087 - acc: 0.9285\n",
            "Epoch 37/100\n",
            "1562/1562 [==============================] - 29s 19ms/step - loss: 0.2013 - acc: 0.9311\n",
            "Epoch 38/100\n",
            "1562/1562 [==============================] - 29s 18ms/step - loss: 0.1998 - acc: 0.9328\n",
            "Epoch 39/100\n",
            "1562/1562 [==============================] - 29s 19ms/step - loss: 0.1934 - acc: 0.9354\n",
            "Epoch 40/100\n",
            "1562/1562 [==============================] - 29s 18ms/step - loss: 0.1953 - acc: 0.9336\n",
            "Epoch 41/100\n",
            "1562/1562 [==============================] - 29s 19ms/step - loss: 0.1858 - acc: 0.9373\n",
            "Epoch 42/100\n",
            "1562/1562 [==============================] - 29s 19ms/step - loss: 0.1911 - acc: 0.9349\n",
            "Epoch 43/100\n",
            "1562/1562 [==============================] - 29s 18ms/step - loss: 0.1878 - acc: 0.9368\n",
            "Epoch 44/100\n",
            "1562/1562 [==============================] - 29s 18ms/step - loss: 0.1823 - acc: 0.9385\n",
            "Epoch 45/100\n",
            "1562/1562 [==============================] - 29s 18ms/step - loss: 0.1781 - acc: 0.9398\n",
            "Epoch 46/100\n",
            "1562/1562 [==============================] - 28s 18ms/step - loss: 0.1823 - acc: 0.9373\n",
            "Epoch 47/100\n",
            "1562/1562 [==============================] - 29s 19ms/step - loss: 0.1710 - acc: 0.9415\n",
            "Epoch 48/100\n",
            "1562/1562 [==============================] - 30s 19ms/step - loss: 0.1749 - acc: 0.9423\n",
            "Epoch 49/100\n",
            "1562/1562 [==============================] - 31s 20ms/step - loss: 0.1710 - acc: 0.9425\n",
            "Epoch 50/100\n",
            "1562/1562 [==============================] - 31s 20ms/step - loss: 0.1716 - acc: 0.9426\n",
            "Epoch 51/100\n",
            "1562/1562 [==============================] - 31s 20ms/step - loss: 0.1694 - acc: 0.9444\n",
            "Epoch 52/100\n",
            "1562/1562 [==============================] - 31s 20ms/step - loss: 0.1651 - acc: 0.9445\n",
            "Epoch 53/100\n",
            "1562/1562 [==============================] - 31s 20ms/step - loss: 0.1694 - acc: 0.9434\n",
            "Epoch 54/100\n",
            "1562/1562 [==============================] - 31s 20ms/step - loss: 0.1664 - acc: 0.9439\n",
            "Epoch 55/100\n",
            "1562/1562 [==============================] - 31s 20ms/step - loss: 0.1697 - acc: 0.9442\n",
            "Epoch 56/100\n",
            "1562/1562 [==============================] - 31s 20ms/step - loss: 0.1576 - acc: 0.9472\n",
            "Epoch 57/100\n",
            "1562/1562 [==============================] - 30s 19ms/step - loss: 0.1605 - acc: 0.9464\n",
            "Epoch 58/100\n",
            "1562/1562 [==============================] - 28s 18ms/step - loss: 0.1611 - acc: 0.9480\n",
            "Epoch 59/100\n",
            "1562/1562 [==============================] - 28s 18ms/step - loss: 0.1573 - acc: 0.9479\n",
            "Epoch 60/100\n",
            "1562/1562 [==============================] - 28s 18ms/step - loss: 0.1560 - acc: 0.9480\n",
            "Epoch 61/100\n",
            "1562/1562 [==============================] - 30s 19ms/step - loss: 0.1581 - acc: 0.9477\n",
            "Epoch 62/100\n",
            "1562/1562 [==============================] - 31s 20ms/step - loss: 0.1534 - acc: 0.9492\n",
            "Epoch 63/100\n",
            "1562/1562 [==============================] - 31s 20ms/step - loss: 0.1531 - acc: 0.9509\n",
            "Epoch 64/100\n",
            "1562/1562 [==============================] - 31s 20ms/step - loss: 0.1534 - acc: 0.9494\n",
            "Epoch 65/100\n",
            "1562/1562 [==============================] - 30s 19ms/step - loss: 0.1500 - acc: 0.9506\n",
            "Epoch 66/100\n",
            "1562/1562 [==============================] - 30s 19ms/step - loss: 0.1546 - acc: 0.9489\n",
            "Epoch 67/100\n",
            "1562/1562 [==============================] - 30s 19ms/step - loss: 0.1465 - acc: 0.9508\n",
            "Epoch 68/100\n",
            "1562/1562 [==============================] - 29s 19ms/step - loss: 0.1498 - acc: 0.9508\n",
            "Epoch 69/100\n",
            "1562/1562 [==============================] - 29s 19ms/step - loss: 0.1491 - acc: 0.9505\n",
            "Epoch 70/100\n",
            "1562/1562 [==============================] - 29s 19ms/step - loss: 0.1427 - acc: 0.9536\n",
            "Epoch 71/100\n",
            "1562/1562 [==============================] - 29s 19ms/step - loss: 0.1484 - acc: 0.9511\n",
            "Epoch 72/100\n",
            "1562/1562 [==============================] - 29s 19ms/step - loss: 0.1431 - acc: 0.9515\n",
            "Epoch 73/100\n",
            "1562/1562 [==============================] - 29s 19ms/step - loss: 0.1447 - acc: 0.9533\n",
            "Epoch 74/100\n",
            "1562/1562 [==============================] - 29s 19ms/step - loss: 0.1454 - acc: 0.9532\n",
            "Epoch 75/100\n",
            "1562/1562 [==============================] - 30s 19ms/step - loss: 0.1396 - acc: 0.9542\n",
            "Epoch 76/100\n",
            "1562/1562 [==============================] - 30s 19ms/step - loss: 0.1448 - acc: 0.9523\n",
            "Epoch 77/100\n",
            "1562/1562 [==============================] - 30s 19ms/step - loss: 0.1442 - acc: 0.9528\n",
            "Epoch 78/100\n",
            "1562/1562 [==============================] - 31s 20ms/step - loss: 0.1369 - acc: 0.9544\n",
            "Epoch 79/100\n",
            "1562/1562 [==============================] - 30s 19ms/step - loss: 0.1396 - acc: 0.9539\n",
            "Epoch 80/100\n",
            "1562/1562 [==============================] - 30s 19ms/step - loss: 0.1340 - acc: 0.9557\n",
            "Epoch 81/100\n",
            "1562/1562 [==============================] - 31s 20ms/step - loss: 0.1364 - acc: 0.9561\n",
            "Epoch 82/100\n",
            "1562/1562 [==============================] - 31s 20ms/step - loss: 0.1361 - acc: 0.9571\n",
            "Epoch 83/100\n",
            "1562/1562 [==============================] - 31s 20ms/step - loss: 0.1389 - acc: 0.9546\n",
            "Epoch 84/100\n",
            "1562/1562 [==============================] - 31s 20ms/step - loss: 0.1380 - acc: 0.9557\n",
            "Epoch 85/100\n",
            "1562/1562 [==============================] - 31s 20ms/step - loss: 0.1339 - acc: 0.9558\n",
            "Epoch 86/100\n",
            "1562/1562 [==============================] - 30s 20ms/step - loss: 0.1336 - acc: 0.9557\n",
            "Epoch 87/100\n",
            "1562/1562 [==============================] - 31s 20ms/step - loss: 0.1376 - acc: 0.9556\n",
            "Epoch 88/100\n",
            "1562/1562 [==============================] - 32s 20ms/step - loss: 0.1342 - acc: 0.9564\n",
            "Epoch 89/100\n",
            "1562/1562 [==============================] - 32s 20ms/step - loss: 0.1296 - acc: 0.9565\n",
            "Epoch 90/100\n",
            "1562/1562 [==============================] - 32s 20ms/step - loss: 0.1304 - acc: 0.9579\n",
            "Epoch 91/100\n",
            "1562/1562 [==============================] - 31s 20ms/step - loss: 0.1292 - acc: 0.9579\n",
            "Epoch 92/100\n",
            "1562/1562 [==============================] - 31s 20ms/step - loss: 0.1268 - acc: 0.9585\n",
            "Epoch 93/100\n",
            "1562/1562 [==============================] - 30s 19ms/step - loss: 0.1370 - acc: 0.9568\n",
            "Epoch 94/100\n",
            "1562/1562 [==============================] - 29s 19ms/step - loss: 0.1300 - acc: 0.9584\n",
            "Epoch 95/100\n",
            "1562/1562 [==============================] - 29s 19ms/step - loss: 0.1310 - acc: 0.9587\n",
            "Epoch 96/100\n",
            "1562/1562 [==============================] - 30s 19ms/step - loss: 0.1295 - acc: 0.9573\n",
            "Epoch 97/100\n",
            "1562/1562 [==============================] - 29s 19ms/step - loss: 0.1296 - acc: 0.9581\n",
            "Epoch 98/100\n",
            "1562/1562 [==============================] - 29s 19ms/step - loss: 0.1285 - acc: 0.9586\n",
            "Epoch 99/100\n",
            "1562/1562 [==============================] - 30s 19ms/step - loss: 0.1295 - acc: 0.9582\n",
            "Epoch 100/100\n",
            "1562/1562 [==============================] - 31s 20ms/step - loss: 0.1254 - acc: 0.9592\n"
          ],
          "name": "stdout"
        },
        {
          "output_type": "execute_result",
          "data": {
            "text/plain": [
              "<keras.callbacks.History at 0x7f8d3cba2160>"
            ]
          },
          "metadata": {
            "tags": []
          },
          "execution_count": 15
        }
      ]
    },
    {
      "metadata": {
        "id": "hZjrf1owzIQ9",
        "colab_type": "code",
        "outputId": "2ba391ab-b3e9-4ed8-a205-015b16feb5e5",
        "colab": {
          "base_uri": "https://localhost:8080/",
          "height": 34
        }
      },
      "cell_type": "code",
      "source": [
        "test_loss , test_acc = model.evaluate(test_image , test_labels)"
      ],
      "execution_count": 16,
      "outputs": [
        {
          "output_type": "stream",
          "text": [
            "10000/10000 [==============================] - 2s 155us/step\n"
          ],
          "name": "stdout"
        }
      ]
    },
    {
      "metadata": {
        "id": "87qZ2oLZ1Tzv",
        "colab_type": "code",
        "outputId": "4ca947b5-c16a-473c-b3ad-dd1dab63f144",
        "colab": {
          "base_uri": "https://localhost:8080/",
          "height": 34
        }
      },
      "cell_type": "code",
      "source": [
        "test_loss , test_acc\n",
        "\n"
      ],
      "execution_count": 17,
      "outputs": [
        {
          "output_type": "execute_result",
          "data": {
            "text/plain": [
              "(0.7873610929131508, 0.8196)"
            ]
          },
          "metadata": {
            "tags": []
          },
          "execution_count": 17
        }
      ]
    },
    {
      "metadata": {
        "id": "UDwJNpm_16jX",
        "colab_type": "code",
        "colab": {}
      },
      "cell_type": "code",
      "source": [
        ""
      ],
      "execution_count": 0,
      "outputs": []
    }
  ]
}