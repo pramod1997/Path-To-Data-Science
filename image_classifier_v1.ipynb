{
  "nbformat": 4,
  "nbformat_minor": 0,
  "metadata": {
    "colab": {
      "name": "image_classifier_v1.ipynb",
      "version": "0.3.2",
      "provenance": [],
      "include_colab_link": true
    },
    "kernelspec": {
      "name": "python3",
      "display_name": "Python 3"
    },
    "accelerator": "GPU"
  },
  "cells": [
    {
      "cell_type": "markdown",
      "metadata": {
        "id": "view-in-github",
        "colab_type": "text"
      },
      "source": [
        "<a href=\"https://colab.research.google.com/github/pramod1997/Path-To-Data-Science/blob/master/image_classifier_v1.ipynb\" target=\"_parent\"><img src=\"https://colab.research.google.com/assets/colab-badge.svg\" alt=\"Open In Colab\"/></a>"
      ]
    },
    {
      "metadata": {
        "id": "KOohXPTUw0ai",
        "colab_type": "code",
        "colab": {}
      },
      "cell_type": "code",
      "source": [
        "# 1st attempt on image classification  cifar10 \n",
        "# a simple model -> dense layers and softmax layer \n",
        "# 45% test accuracy :-< "
      ],
      "execution_count": 0,
      "outputs": []
    },
    {
      "metadata": {
        "id": "8Dqt_zRJyUZz",
        "colab_type": "code",
        "colab": {
          "base_uri": "https://localhost:8080/",
          "height": 34
        },
        "outputId": "c508519b-42e0-4a39-85a2-1d90b678f24f"
      },
      "cell_type": "code",
      "source": [
        "import pandas as pd\n",
        "import numpy as np\n",
        "import keras \n",
        "from sklearn.preprocessing import OneHotEncoder"
      ],
      "execution_count": 2,
      "outputs": [
        {
          "output_type": "stream",
          "text": [
            "Using TensorFlow backend.\n"
          ],
          "name": "stderr"
        }
      ]
    },
    {
      "metadata": {
        "id": "lnv_S-jOw9pn",
        "colab_type": "code",
        "colab": {}
      },
      "cell_type": "code",
      "source": [
        "from keras.layers import Dense ,Input , Flatten\n",
        "from keras.models import Sequential"
      ],
      "execution_count": 0,
      "outputs": []
    },
    {
      "metadata": {
        "id": "HL3o9d0Xz4Mg",
        "colab_type": "code",
        "colab": {}
      },
      "cell_type": "code",
      "source": [
        "from keras.datasets import cifar10"
      ],
      "execution_count": 0,
      "outputs": []
    },
    {
      "metadata": {
        "id": "BKxq6ZNaxVR0",
        "colab_type": "code",
        "colab": {}
      },
      "cell_type": "code",
      "source": [
        "((train_image , train_labels) , (test_image , test_labels)) = cifar10.load_data()"
      ],
      "execution_count": 0,
      "outputs": []
    },
    {
      "metadata": {
        "id": "QnHvgDBcI9y9",
        "colab_type": "code",
        "colab": {
          "base_uri": "https://localhost:8080/",
          "height": 238
        },
        "outputId": "89db3a7a-c90d-4c5f-8703-bf77b702c724"
      },
      "cell_type": "code",
      "source": [
        "# eda \n",
        "train_image.shape , test_image.shape  , train_labels , test_labels"
      ],
      "execution_count": 6,
      "outputs": [
        {
          "output_type": "execute_result",
          "data": {
            "text/plain": [
              "((50000, 32, 32, 3), (10000, 32, 32, 3), array([[6],\n",
              "        [9],\n",
              "        [9],\n",
              "        ...,\n",
              "        [9],\n",
              "        [1],\n",
              "        [1]], dtype=uint8), array([[3],\n",
              "        [8],\n",
              "        [8],\n",
              "        ...,\n",
              "        [5],\n",
              "        [1],\n",
              "        [7]]))"
            ]
          },
          "metadata": {
            "tags": []
          },
          "execution_count": 6
        }
      ]
    },
    {
      "metadata": {
        "id": "ffRorE7_JK3i",
        "colab_type": "code",
        "colab": {}
      },
      "cell_type": "code",
      "source": [
        "train_image = train_image/255\n",
        "test_image = test_image/255"
      ],
      "execution_count": 0,
      "outputs": []
    },
    {
      "metadata": {
        "id": "_VYCK7juHUK-",
        "colab_type": "code",
        "colab": {
          "base_uri": "https://localhost:8080/",
          "height": 173
        },
        "outputId": "e84c8e74-39f6-4ea1-9429-a39ca893eefc"
      },
      "cell_type": "code",
      "source": [
        "onehotencoder = OneHotEncoder()  ## need this transformation to pass to fit the model \n",
        "train_labels = onehotencoder.fit_transform(train_labels)\n",
        "test_labels = onehotencoder.fit_transform(test_labels)"
      ],
      "execution_count": 8,
      "outputs": [
        {
          "output_type": "stream",
          "text": [
            "/usr/local/lib/python3.6/dist-packages/sklearn/preprocessing/_encoders.py:371: FutureWarning: The handling of integer data will change in version 0.22. Currently, the categories are determined based on the range [0, max(values)], while in the future they will be determined based on the unique values.\n",
            "If you want the future behaviour and silence this warning, you can specify \"categories='auto'\".\n",
            "In case you used a LabelEncoder before this OneHotEncoder to convert the categories to integers, then you can now use the OneHotEncoder directly.\n",
            "  warnings.warn(msg, FutureWarning)\n",
            "/usr/local/lib/python3.6/dist-packages/sklearn/preprocessing/_encoders.py:371: FutureWarning: The handling of integer data will change in version 0.22. Currently, the categories are determined based on the range [0, max(values)], while in the future they will be determined based on the unique values.\n",
            "If you want the future behaviour and silence this warning, you can specify \"categories='auto'\".\n",
            "In case you used a LabelEncoder before this OneHotEncoder to convert the categories to integers, then you can now use the OneHotEncoder directly.\n",
            "  warnings.warn(msg, FutureWarning)\n"
          ],
          "name": "stderr"
        }
      ]
    },
    {
      "metadata": {
        "id": "zjcpi2kkxdko",
        "colab_type": "code",
        "outputId": "76dad8d0-155a-4acd-e9fe-f3f317c8afe0",
        "colab": {
          "base_uri": "https://localhost:8080/",
          "height": 88
        }
      },
      "cell_type": "code",
      "source": [
        "### model \n",
        "model = Sequential()\n",
        "\n",
        "\n",
        "model.add(Flatten(input_shape=(32,32,3)))\n",
        "model.add(Dense(128, activation = 'relu'))\n",
        "model.add(Dense(64, activation = 'relu'))\n",
        "model.add(Dense(32, activation = 'relu'))\n",
        "model.add(Dense(10, activation = 'softmax'))"
      ],
      "execution_count": 9,
      "outputs": [
        {
          "output_type": "stream",
          "text": [
            "WARNING:tensorflow:From /usr/local/lib/python3.6/dist-packages/tensorflow/python/framework/op_def_library.py:263: colocate_with (from tensorflow.python.framework.ops) is deprecated and will be removed in a future version.\n",
            "Instructions for updating:\n",
            "Colocations handled automatically by placer.\n"
          ],
          "name": "stdout"
        }
      ]
    },
    {
      "metadata": {
        "id": "hBNUtp8MxsBa",
        "colab_type": "code",
        "colab": {}
      },
      "cell_type": "code",
      "source": [
        "model.compile(optimizer = 'adam' , \n",
        "             loss= 'categorical_crossentropy',\n",
        "             metrics = ['accuracy'])\n"
      ],
      "execution_count": 0,
      "outputs": []
    },
    {
      "metadata": {
        "id": "vF4IECOH_LdY",
        "colab_type": "code",
        "colab": {
          "base_uri": "https://localhost:8080/",
          "height": 306
        },
        "outputId": "5002dc81-6027-4eb3-cd54-b92d448a00af"
      },
      "cell_type": "code",
      "source": [
        "model.summary()"
      ],
      "execution_count": 11,
      "outputs": [
        {
          "output_type": "stream",
          "text": [
            "_________________________________________________________________\n",
            "Layer (type)                 Output Shape              Param #   \n",
            "=================================================================\n",
            "flatten_1 (Flatten)          (None, 3072)              0         \n",
            "_________________________________________________________________\n",
            "dense_1 (Dense)              (None, 128)               393344    \n",
            "_________________________________________________________________\n",
            "dense_2 (Dense)              (None, 64)                8256      \n",
            "_________________________________________________________________\n",
            "dense_3 (Dense)              (None, 32)                2080      \n",
            "_________________________________________________________________\n",
            "dense_4 (Dense)              (None, 10)                330       \n",
            "=================================================================\n",
            "Total params: 404,010\n",
            "Trainable params: 404,010\n",
            "Non-trainable params: 0\n",
            "_________________________________________________________________\n"
          ],
          "name": "stdout"
        }
      ]
    },
    {
      "metadata": {
        "id": "NHSYn--I_nrY",
        "colab_type": "code",
        "colab": {
          "base_uri": "https://localhost:8080/",
          "height": 34
        },
        "outputId": "088cbc2c-3fb1-428f-d13b-548243d6a55c"
      },
      "cell_type": "code",
      "source": [
        "train_image.shape , train_labels.shape  ## label shape changed for multiclass classification "
      ],
      "execution_count": 12,
      "outputs": [
        {
          "output_type": "execute_result",
          "data": {
            "text/plain": [
              "((50000, 32, 32, 3), (50000, 10))"
            ]
          },
          "metadata": {
            "tags": []
          },
          "execution_count": 12
        }
      ]
    },
    {
      "metadata": {
        "id": "7xPHHVBdycQR",
        "colab_type": "code",
        "colab": {
          "base_uri": "https://localhost:8080/",
          "height": 445
        },
        "outputId": "5bb75624-cac8-4437-ca27-80ba5b695d28"
      },
      "cell_type": "code",
      "source": [
        "model.fit(train_image , train_labels, epochs = 10)  ### problem with the shape of train_labels earlier"
      ],
      "execution_count": 13,
      "outputs": [
        {
          "output_type": "stream",
          "text": [
            "WARNING:tensorflow:From /usr/local/lib/python3.6/dist-packages/tensorflow/python/ops/math_ops.py:3066: to_int32 (from tensorflow.python.ops.math_ops) is deprecated and will be removed in a future version.\n",
            "Instructions for updating:\n",
            "Use tf.cast instead.\n",
            "Epoch 1/10\n",
            "50000/50000 [==============================] - 11s 225us/step - loss: 1.9023 - acc: 0.3058\n",
            "Epoch 2/10\n",
            "50000/50000 [==============================] - 10s 207us/step - loss: 1.7310 - acc: 0.3749\n",
            "Epoch 3/10\n",
            "50000/50000 [==============================] - 10s 208us/step - loss: 1.6502 - acc: 0.4088\n",
            "Epoch 4/10\n",
            "50000/50000 [==============================] - 10s 207us/step - loss: 1.6012 - acc: 0.4255\n",
            "Epoch 5/10\n",
            "50000/50000 [==============================] - 10s 207us/step - loss: 1.5650 - acc: 0.4381\n",
            "Epoch 6/10\n",
            "50000/50000 [==============================] - 10s 207us/step - loss: 1.5434 - acc: 0.4459\n",
            "Epoch 7/10\n",
            "50000/50000 [==============================] - 10s 206us/step - loss: 1.5240 - acc: 0.4514\n",
            "Epoch 8/10\n",
            "50000/50000 [==============================] - 10s 206us/step - loss: 1.5116 - acc: 0.4591\n",
            "Epoch 9/10\n",
            "50000/50000 [==============================] - 10s 206us/step - loss: 1.4915 - acc: 0.4675\n",
            "Epoch 10/10\n",
            "50000/50000 [==============================] - 10s 206us/step - loss: 1.4796 - acc: 0.4701\n"
          ],
          "name": "stdout"
        },
        {
          "output_type": "execute_result",
          "data": {
            "text/plain": [
              "<keras.callbacks.History at 0x7fed103e1278>"
            ]
          },
          "metadata": {
            "tags": []
          },
          "execution_count": 13
        }
      ]
    },
    {
      "metadata": {
        "id": "hZjrf1owzIQ9",
        "colab_type": "code",
        "colab": {
          "base_uri": "https://localhost:8080/",
          "height": 34
        },
        "outputId": "ffd63c42-34f7-462e-cab5-aae55c7544f6"
      },
      "cell_type": "code",
      "source": [
        "test_loss , test_acc = model.evaluate(test_image , test_labels)"
      ],
      "execution_count": 14,
      "outputs": [
        {
          "output_type": "stream",
          "text": [
            "10000/10000 [==============================] - 1s 99us/step\n"
          ],
          "name": "stdout"
        }
      ]
    },
    {
      "metadata": {
        "id": "87qZ2oLZ1Tzv",
        "colab_type": "code",
        "colab": {
          "base_uri": "https://localhost:8080/",
          "height": 34
        },
        "outputId": "a6e06c07-cecc-4d33-a4b5-4958c4b2d67d"
      },
      "cell_type": "code",
      "source": [
        "test_loss , test_acc\n",
        "\n"
      ],
      "execution_count": 15,
      "outputs": [
        {
          "output_type": "execute_result",
          "data": {
            "text/plain": [
              "(1.5229641487121581, 0.4532)"
            ]
          },
          "metadata": {
            "tags": []
          },
          "execution_count": 15
        }
      ]
    },
    {
      "metadata": {
        "id": "UDwJNpm_16jX",
        "colab_type": "code",
        "colab": {}
      },
      "cell_type": "code",
      "source": [
        ""
      ],
      "execution_count": 0,
      "outputs": []
    }
  ]
}