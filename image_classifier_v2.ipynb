{
  "nbformat": 4,
  "nbformat_minor": 0,
  "metadata": {
    "colab": {
      "name": "image_classifier_v2.ipynb",
      "version": "0.3.2",
      "provenance": [],
      "collapsed_sections": [],
      "include_colab_link": true
    },
    "kernelspec": {
      "name": "python3",
      "display_name": "Python 3"
    },
    "accelerator": "GPU"
  },
  "cells": [
    {
      "cell_type": "markdown",
      "metadata": {
        "id": "view-in-github",
        "colab_type": "text"
      },
      "source": [
        "<a href=\"https://colab.research.google.com/github/pramod1997/Path-To-Data-Science/blob/master/image_classifier_v2.ipynb\" target=\"_parent\"><img src=\"https://colab.research.google.com/assets/colab-badge.svg\" alt=\"Open In Colab\"/></a>"
      ]
    },
    {
      "metadata": {
        "id": "KOohXPTUw0ai",
        "colab_type": "code",
        "colab": {}
      },
      "cell_type": "code",
      "source": [
        "# improvement from v1 -> 2 convolution layer \n",
        "# 2st attempt on image classification  cifar10 \n",
        "# \n",
        "# % test accuracy :-< 67% improvement from v1"
      ],
      "execution_count": 0,
      "outputs": []
    },
    {
      "metadata": {
        "id": "8Dqt_zRJyUZz",
        "colab_type": "code",
        "colab": {}
      },
      "cell_type": "code",
      "source": [
        "import pandas as pd\n",
        "import numpy as np\n",
        "import keras \n",
        "from sklearn.preprocessing import OneHotEncoder\n",
        "from sklearn.preprocessing import StandardScaler\n",
        "import cv2 as cv2"
      ],
      "execution_count": 0,
      "outputs": []
    },
    {
      "metadata": {
        "id": "lnv_S-jOw9pn",
        "colab_type": "code",
        "colab": {}
      },
      "cell_type": "code",
      "source": [
        "from keras.layers import Dense ,Input , Flatten ,Conv2D ,Activation  , MaxPooling2D\n",
        "from keras.models import Sequential"
      ],
      "execution_count": 0,
      "outputs": []
    },
    {
      "metadata": {
        "id": "HL3o9d0Xz4Mg",
        "colab_type": "code",
        "colab": {}
      },
      "cell_type": "code",
      "source": [
        "from keras.datasets import cifar10"
      ],
      "execution_count": 0,
      "outputs": []
    },
    {
      "metadata": {
        "id": "BKxq6ZNaxVR0",
        "colab_type": "code",
        "colab": {}
      },
      "cell_type": "code",
      "source": [
        "((train_image , train_labels) , (test_image , test_labels)) = cifar10.load_data()"
      ],
      "execution_count": 0,
      "outputs": []
    },
    {
      "metadata": {
        "id": "vi7po65XawDY",
        "colab_type": "code",
        "colab": {}
      },
      "cell_type": "code",
      "source": [
        "train_image = train_image/255\n",
        "test_image = test_image/255"
      ],
      "execution_count": 0,
      "outputs": []
    },
    {
      "metadata": {
        "id": "QnHvgDBcI9y9",
        "colab_type": "code",
        "colab": {
          "base_uri": "https://localhost:8080/",
          "height": 238
        },
        "outputId": "37224bcf-fc8a-45fc-b385-2ed923bd28b6"
      },
      "cell_type": "code",
      "source": [
        "# eda \n",
        "train_image.shape , test_image.shape  , train_labels , test_labels"
      ],
      "execution_count": 33,
      "outputs": [
        {
          "output_type": "execute_result",
          "data": {
            "text/plain": [
              "((50000, 32, 32, 3), (10000, 32, 32, 3), array([[6],\n",
              "        [9],\n",
              "        [9],\n",
              "        ...,\n",
              "        [9],\n",
              "        [1],\n",
              "        [1]], dtype=uint8), array([[3],\n",
              "        [8],\n",
              "        [8],\n",
              "        ...,\n",
              "        [5],\n",
              "        [1],\n",
              "        [7]]))"
            ]
          },
          "metadata": {
            "tags": []
          },
          "execution_count": 33
        }
      ]
    },
    {
      "metadata": {
        "id": "ffRorE7_JK3i",
        "colab_type": "code",
        "colab": {}
      },
      "cell_type": "code",
      "source": [
        "\n",
        "  \n",
        "  "
      ],
      "execution_count": 0,
      "outputs": []
    },
    {
      "metadata": {
        "id": "zjcpi2kkxdko",
        "colab_type": "code",
        "colab": {}
      },
      "cell_type": "code",
      "source": [
        "### model \n",
        "model = Sequential()\n",
        "\n",
        "model.add(Conv2D( filters = 32 , kernel_size = (3,3), padding='same' , input_shape=(32,32,3)))\n",
        "model.add(Activation('relu'))\n",
        "\n",
        "model.add(MaxPooling2D(pool_size =(2,2)))\n",
        "\n",
        "model.add(Conv2D( filters = 32 , kernel_size = (3,3), padding='same'))\n",
        "model.add(Activation('relu'))\n",
        "\n",
        "\n",
        "\n",
        "model.add(MaxPooling2D(pool_size =(2,2)))\n",
        "\n",
        "model.add(Flatten())\n",
        "\n",
        "model.add(Dense(64, activation = 'relu'))\n",
        "model.add(Dense(32, activation = 'relu'))\n",
        "model.add(Dense(10, activation = 'softmax'))"
      ],
      "execution_count": 0,
      "outputs": []
    },
    {
      "metadata": {
        "id": "hBNUtp8MxsBa",
        "colab_type": "code",
        "colab": {}
      },
      "cell_type": "code",
      "source": [
        "model.compile(optimizer = 'adam' , \n",
        "             loss= 'categorical_crossentropy',\n",
        "             metrics = ['accuracy'])\n"
      ],
      "execution_count": 0,
      "outputs": []
    },
    {
      "metadata": {
        "id": "vF4IECOH_LdY",
        "colab_type": "code",
        "colab": {
          "base_uri": "https://localhost:8080/",
          "height": 476
        },
        "outputId": "63fdb1b1-ee6e-4a9b-a3d4-ffd0231ac1d8"
      },
      "cell_type": "code",
      "source": [
        "model.summary()"
      ],
      "execution_count": 77,
      "outputs": [
        {
          "output_type": "stream",
          "text": [
            "_________________________________________________________________\n",
            "Layer (type)                 Output Shape              Param #   \n",
            "=================================================================\n",
            "conv2d_9 (Conv2D)            (None, 32, 32, 32)        896       \n",
            "_________________________________________________________________\n",
            "activation_5 (Activation)    (None, 32, 32, 32)        0         \n",
            "_________________________________________________________________\n",
            "max_pooling2d_3 (MaxPooling2 (None, 16, 16, 32)        0         \n",
            "_________________________________________________________________\n",
            "conv2d_10 (Conv2D)           (None, 16, 16, 32)        9248      \n",
            "_________________________________________________________________\n",
            "activation_6 (Activation)    (None, 16, 16, 32)        0         \n",
            "_________________________________________________________________\n",
            "max_pooling2d_4 (MaxPooling2 (None, 8, 8, 32)          0         \n",
            "_________________________________________________________________\n",
            "flatten_14 (Flatten)         (None, 2048)              0         \n",
            "_________________________________________________________________\n",
            "dense_18 (Dense)             (None, 64)                131136    \n",
            "_________________________________________________________________\n",
            "dense_19 (Dense)             (None, 32)                2080      \n",
            "_________________________________________________________________\n",
            "dense_20 (Dense)             (None, 10)                330       \n",
            "=================================================================\n",
            "Total params: 143,690\n",
            "Trainable params: 143,690\n",
            "Non-trainable params: 0\n",
            "_________________________________________________________________\n"
          ],
          "name": "stdout"
        }
      ]
    },
    {
      "metadata": {
        "id": "NHSYn--I_nrY",
        "colab_type": "code",
        "colab": {
          "base_uri": "https://localhost:8080/",
          "height": 34
        },
        "outputId": "98fd201c-f0c9-407a-d188-4aee1a6fda0a"
      },
      "cell_type": "code",
      "source": [
        "train_image.shape , train_labels.shape  ## label shape changed for multiclass classification "
      ],
      "execution_count": 78,
      "outputs": [
        {
          "output_type": "execute_result",
          "data": {
            "text/plain": [
              "((50000, 32, 32, 3), (50000, 10))"
            ]
          },
          "metadata": {
            "tags": []
          },
          "execution_count": 78
        }
      ]
    },
    {
      "metadata": {
        "id": "7xPHHVBdycQR",
        "colab_type": "code",
        "colab": {
          "base_uri": "https://localhost:8080/",
          "height": 374
        },
        "outputId": "68750858-9196-41fd-c891-94b8d2b5d242"
      },
      "cell_type": "code",
      "source": [
        "model.fit(train_image , train_labels, epochs = 10)  ### problem with the shape of train_labels earlier"
      ],
      "execution_count": 79,
      "outputs": [
        {
          "output_type": "stream",
          "text": [
            "Epoch 1/10\n",
            "50000/50000 [==============================] - 15s 309us/step - loss: 1.4975 - acc: 0.4559\n",
            "Epoch 2/10\n",
            "50000/50000 [==============================] - 14s 290us/step - loss: 1.1231 - acc: 0.6040\n",
            "Epoch 3/10\n",
            "50000/50000 [==============================] - 15s 291us/step - loss: 0.9770 - acc: 0.6568\n",
            "Epoch 4/10\n",
            "50000/50000 [==============================] - 15s 292us/step - loss: 0.8857 - acc: 0.6892\n",
            "Epoch 5/10\n",
            "50000/50000 [==============================] - 15s 294us/step - loss: 0.8276 - acc: 0.7087\n",
            "Epoch 6/10\n",
            "50000/50000 [==============================] - 14s 290us/step - loss: 0.7637 - acc: 0.7333\n",
            "Epoch 7/10\n",
            "50000/50000 [==============================] - 14s 289us/step - loss: 0.7201 - acc: 0.7445\n",
            "Epoch 8/10\n",
            "50000/50000 [==============================] - 14s 290us/step - loss: 0.6780 - acc: 0.7606\n",
            "Epoch 9/10\n",
            "50000/50000 [==============================] - 15s 291us/step - loss: 0.6381 - acc: 0.7745\n",
            "Epoch 10/10\n",
            "50000/50000 [==============================] - 14s 290us/step - loss: 0.6005 - acc: 0.7875\n"
          ],
          "name": "stdout"
        },
        {
          "output_type": "execute_result",
          "data": {
            "text/plain": [
              "<keras.callbacks.History at 0x7feca9c254e0>"
            ]
          },
          "metadata": {
            "tags": []
          },
          "execution_count": 79
        }
      ]
    },
    {
      "metadata": {
        "id": "hZjrf1owzIQ9",
        "colab_type": "code",
        "colab": {
          "base_uri": "https://localhost:8080/",
          "height": 34
        },
        "outputId": "1939ac5f-4e10-4852-edc3-6a2f350809c3"
      },
      "cell_type": "code",
      "source": [
        "test_loss , test_acc = model.evaluate(test_image , test_labels)"
      ],
      "execution_count": 80,
      "outputs": [
        {
          "output_type": "stream",
          "text": [
            "10000/10000 [==============================] - 2s 153us/step\n"
          ],
          "name": "stdout"
        }
      ]
    },
    {
      "metadata": {
        "id": "87qZ2oLZ1Tzv",
        "colab_type": "code",
        "colab": {
          "base_uri": "https://localhost:8080/",
          "height": 34
        },
        "outputId": "e0b6679a-2386-4d00-f6e7-ce48a49ec627"
      },
      "cell_type": "code",
      "source": [
        "test_loss , test_acc\n",
        "\n"
      ],
      "execution_count": 81,
      "outputs": [
        {
          "output_type": "execute_result",
          "data": {
            "text/plain": [
              "(1.0163171508789062, 0.6737)"
            ]
          },
          "metadata": {
            "tags": []
          },
          "execution_count": 81
        }
      ]
    },
    {
      "metadata": {
        "id": "UDwJNpm_16jX",
        "colab_type": "code",
        "colab": {}
      },
      "cell_type": "code",
      "source": [
        ""
      ],
      "execution_count": 0,
      "outputs": []
    }
  ]
}