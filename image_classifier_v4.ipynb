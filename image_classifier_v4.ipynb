{
  "nbformat": 4,
  "nbformat_minor": 0,
  "metadata": {
    "colab": {
      "name": "image_classifier_v4.ipynb",
      "version": "0.3.2",
      "provenance": [],
      "collapsed_sections": [],
      "include_colab_link": true
    },
    "kernelspec": {
      "name": "python3",
      "display_name": "Python 3"
    },
    "accelerator": "GPU"
  },
  "cells": [
    {
      "cell_type": "markdown",
      "metadata": {
        "id": "view-in-github",
        "colab_type": "text"
      },
      "source": [
        "<a href=\"https://colab.research.google.com/github/pramod1997/Path-To-Data-Science/blob/master/image_classifier_v4.ipynb\" target=\"_parent\"><img src=\"https://colab.research.google.com/assets/colab-badge.svg\" alt=\"Open In Colab\"/></a>"
      ]
    },
    {
      "metadata": {
        "id": "KOohXPTUw0ai",
        "colab_type": "code",
        "colab": {}
      },
      "cell_type": "code",
      "source": [
        "# improvement from v3 -> data augementation \n",
        "# 4st attempt on image classification  cifar10 \n",
        "# \n",
        "# % test accuracy :-< 78 percent needs improv\n"
      ],
      "execution_count": 0,
      "outputs": []
    },
    {
      "metadata": {
        "id": "8Dqt_zRJyUZz",
        "colab_type": "code",
        "outputId": "2c1f830e-a43f-444c-b55b-54c4181c392f",
        "colab": {
          "base_uri": "https://localhost:8080/",
          "height": 34
        }
      },
      "cell_type": "code",
      "source": [
        "import pandas as pd\n",
        "import numpy as np\n",
        "import keras \n",
        "from sklearn.preprocessing import OneHotEncoder\n",
        "from sklearn.preprocessing import StandardScaler\n",
        "import cv2 as cv2"
      ],
      "execution_count": 1,
      "outputs": [
        {
          "output_type": "stream",
          "text": [
            "Using TensorFlow backend.\n"
          ],
          "name": "stderr"
        }
      ]
    },
    {
      "metadata": {
        "id": "lnv_S-jOw9pn",
        "colab_type": "code",
        "colab": {}
      },
      "cell_type": "code",
      "source": [
        "from keras.preprocessing.image import ImageDataGenerator\n",
        "from keras.layers import Dense ,Input , Flatten ,Conv2D ,Activation  , MaxPooling2D , Dropout\n",
        "from keras.models import Sequential"
      ],
      "execution_count": 0,
      "outputs": []
    },
    {
      "metadata": {
        "id": "HL3o9d0Xz4Mg",
        "colab_type": "code",
        "colab": {}
      },
      "cell_type": "code",
      "source": [
        "from keras.datasets import cifar10"
      ],
      "execution_count": 0,
      "outputs": []
    },
    {
      "metadata": {
        "id": "PPnE2GmRsZyK",
        "colab_type": "code",
        "colab": {}
      },
      "cell_type": "code",
      "source": [
        "data_augementation = False  # we will use this later"
      ],
      "execution_count": 0,
      "outputs": []
    },
    {
      "metadata": {
        "id": "BKxq6ZNaxVR0",
        "colab_type": "code",
        "colab": {}
      },
      "cell_type": "code",
      "source": [
        "((train_image , train_labels) , (test_image , test_labels)) = cifar10.load_data()"
      ],
      "execution_count": 0,
      "outputs": []
    },
    {
      "metadata": {
        "id": "ihcn6wlcE9Pf",
        "colab_type": "code",
        "colab": {}
      },
      "cell_type": "code",
      "source": [
        "# Convert class vectors to binary class matrices.\n",
        "num_classes =10 # 10  labels are present \n",
        "train_labels = keras.utils.to_categorical(train_labels, num_classes)\n",
        "test_labels = keras.utils.to_categorical(test_labels, num_classes)"
      ],
      "execution_count": 0,
      "outputs": []
    },
    {
      "metadata": {
        "id": "Ap0ICRD4GE_3",
        "colab_type": "code",
        "colab": {
          "base_uri": "https://localhost:8080/",
          "height": 136
        },
        "outputId": "d724920f-704b-4a21-e765-53ab142a953d"
      },
      "cell_type": "code",
      "source": [
        "test_labels  ### one hot encoding"
      ],
      "execution_count": 33,
      "outputs": [
        {
          "output_type": "execute_result",
          "data": {
            "text/plain": [
              "array([[0., 0., 0., ..., 0., 0., 0.],\n",
              "       [0., 0., 0., ..., 0., 1., 0.],\n",
              "       [0., 0., 0., ..., 0., 1., 0.],\n",
              "       ...,\n",
              "       [0., 0., 0., ..., 0., 0., 0.],\n",
              "       [0., 1., 0., ..., 0., 0., 0.],\n",
              "       [0., 0., 0., ..., 1., 0., 0.]], dtype=float32)"
            ]
          },
          "metadata": {
            "tags": []
          },
          "execution_count": 33
        }
      ]
    },
    {
      "metadata": {
        "id": "QnHvgDBcI9y9",
        "colab_type": "code",
        "outputId": "bbe1706f-72c9-4055-d946-55aadeb02246",
        "colab": {
          "base_uri": "https://localhost:8080/",
          "height": 238
        }
      },
      "cell_type": "code",
      "source": [
        "# eda \n",
        "train_image.shape , test_image.shape  , train_labels , test_labels"
      ],
      "execution_count": 34,
      "outputs": [
        {
          "output_type": "execute_result",
          "data": {
            "text/plain": [
              "((50000, 32, 32, 3), (10000, 32, 32, 3), array([[0., 0., 0., ..., 0., 0., 0.],\n",
              "        [0., 0., 0., ..., 0., 0., 1.],\n",
              "        [0., 0., 0., ..., 0., 0., 1.],\n",
              "        ...,\n",
              "        [0., 0., 0., ..., 0., 0., 1.],\n",
              "        [0., 1., 0., ..., 0., 0., 0.],\n",
              "        [0., 1., 0., ..., 0., 0., 0.]], dtype=float32), array([[0., 0., 0., ..., 0., 0., 0.],\n",
              "        [0., 0., 0., ..., 0., 1., 0.],\n",
              "        [0., 0., 0., ..., 0., 1., 0.],\n",
              "        ...,\n",
              "        [0., 0., 0., ..., 0., 0., 0.],\n",
              "        [0., 1., 0., ..., 0., 0., 0.],\n",
              "        [0., 0., 0., ..., 1., 0., 0.]], dtype=float32))"
            ]
          },
          "metadata": {
            "tags": []
          },
          "execution_count": 34
        }
      ]
    },
    {
      "metadata": {
        "id": "wOtG03POta8R",
        "colab_type": "code",
        "colab": {}
      },
      "cell_type": "code",
      "source": [
        "train_image = train_image.astype('float32')\n",
        "test_image = test_image.astype('float32')\n",
        "train_image/=255\n",
        "test_image/=255"
      ],
      "execution_count": 0,
      "outputs": []
    },
    {
      "metadata": {
        "id": "zjcpi2kkxdko",
        "colab_type": "code",
        "colab": {}
      },
      "cell_type": "code",
      "source": [
        "### model \n",
        "model = Sequential()\n",
        "\n",
        "model.add(Conv2D( filters = 32 , kernel_size = (3,3), padding='same' , input_shape=(32,32,3)))\n",
        "model.add(Activation('relu'))\n",
        "\n",
        "model.add(Conv2D( filters = 32 , kernel_size = (3,3), padding='same' ))\n",
        "model.add(Activation('relu'))\n",
        "\n",
        "model.add(MaxPooling2D(pool_size =(2,2)))\n",
        "model.add(Dropout(0.25))\n",
        "\n",
        "model.add(Conv2D( filters = 64 , kernel_size = (3,3), padding='same'))\n",
        "model.add(Activation('relu'))\n",
        "model.add(Conv2D( filters = 64 , kernel_size = (3,3), padding='same'))\n",
        "model.add(Activation('relu'))\n",
        "\n",
        "model.add(MaxPooling2D(pool_size =(2,2)))\n",
        "model.add(Dropout(0.25))\n",
        "\n",
        "\n",
        "\n",
        "\n",
        "model.add(Flatten())\n",
        "\n",
        "model.add(Dense(512, activation = 'relu'))\n",
        "model.add(Dropout(0.5))\n",
        "\n",
        "model.add(Dense(10, activation = 'softmax'))"
      ],
      "execution_count": 0,
      "outputs": []
    },
    {
      "metadata": {
        "id": "hBNUtp8MxsBa",
        "colab_type": "code",
        "colab": {}
      },
      "cell_type": "code",
      "source": [
        "model.compile(optimizer = 'adam' , \n",
        "             loss= 'categorical_crossentropy',\n",
        "             metrics = ['accuracy'])\n"
      ],
      "execution_count": 0,
      "outputs": []
    },
    {
      "metadata": {
        "id": "vF4IECOH_LdY",
        "colab_type": "code",
        "outputId": "93c1bd05-3a4e-4dde-e93c-1063fa51214c",
        "colab": {
          "base_uri": "https://localhost:8080/",
          "height": 680
        }
      },
      "cell_type": "code",
      "source": [
        "model.summary()"
      ],
      "execution_count": 38,
      "outputs": [
        {
          "output_type": "stream",
          "text": [
            "_________________________________________________________________\n",
            "Layer (type)                 Output Shape              Param #   \n",
            "=================================================================\n",
            "conv2d_5 (Conv2D)            (None, 32, 32, 32)        896       \n",
            "_________________________________________________________________\n",
            "activation_5 (Activation)    (None, 32, 32, 32)        0         \n",
            "_________________________________________________________________\n",
            "conv2d_6 (Conv2D)            (None, 32, 32, 32)        9248      \n",
            "_________________________________________________________________\n",
            "activation_6 (Activation)    (None, 32, 32, 32)        0         \n",
            "_________________________________________________________________\n",
            "max_pooling2d_3 (MaxPooling2 (None, 16, 16, 32)        0         \n",
            "_________________________________________________________________\n",
            "dropout_4 (Dropout)          (None, 16, 16, 32)        0         \n",
            "_________________________________________________________________\n",
            "conv2d_7 (Conv2D)            (None, 16, 16, 64)        18496     \n",
            "_________________________________________________________________\n",
            "activation_7 (Activation)    (None, 16, 16, 64)        0         \n",
            "_________________________________________________________________\n",
            "conv2d_8 (Conv2D)            (None, 16, 16, 64)        36928     \n",
            "_________________________________________________________________\n",
            "activation_8 (Activation)    (None, 16, 16, 64)        0         \n",
            "_________________________________________________________________\n",
            "max_pooling2d_4 (MaxPooling2 (None, 8, 8, 64)          0         \n",
            "_________________________________________________________________\n",
            "dropout_5 (Dropout)          (None, 8, 8, 64)          0         \n",
            "_________________________________________________________________\n",
            "flatten_2 (Flatten)          (None, 4096)              0         \n",
            "_________________________________________________________________\n",
            "dense_3 (Dense)              (None, 512)               2097664   \n",
            "_________________________________________________________________\n",
            "dropout_6 (Dropout)          (None, 512)               0         \n",
            "_________________________________________________________________\n",
            "dense_4 (Dense)              (None, 10)                5130      \n",
            "=================================================================\n",
            "Total params: 2,168,362\n",
            "Trainable params: 2,168,362\n",
            "Non-trainable params: 0\n",
            "_________________________________________________________________\n"
          ],
          "name": "stdout"
        }
      ]
    },
    {
      "metadata": {
        "id": "NHSYn--I_nrY",
        "colab_type": "code",
        "outputId": "f38168a3-4af6-49ba-81de-fef861d9108e",
        "colab": {
          "base_uri": "https://localhost:8080/",
          "height": 34
        }
      },
      "cell_type": "code",
      "source": [
        "train_image.shape , train_labels.shape  ## label shape changed for multiclass classification "
      ],
      "execution_count": 39,
      "outputs": [
        {
          "output_type": "execute_result",
          "data": {
            "text/plain": [
              "((50000, 32, 32, 3), (50000, 10))"
            ]
          },
          "metadata": {
            "tags": []
          },
          "execution_count": 39
        }
      ]
    },
    {
      "metadata": {
        "id": "HAXH2njpAMkz",
        "colab_type": "code",
        "colab": {}
      },
      "cell_type": "code",
      "source": [
        "# real time augementation on the data \n",
        "datagenerator = ImageDataGenerator()\n",
        "datagenerator.fit(train_image)\n",
        "#(x_train , y_train) = datagenerator.flow(train_image,train_labels, batch_size =32)\n",
        "\n",
        "\n",
        "\n"
      ],
      "execution_count": 0,
      "outputs": []
    },
    {
      "metadata": {
        "id": "7xPHHVBdycQR",
        "colab_type": "code",
        "outputId": "f23aaa3e-343b-441e-8d4d-a82b96f5b8b3",
        "colab": {
          "base_uri": "https://localhost:8080/",
          "height": 3539
        }
      },
      "cell_type": "code",
      "source": [
        "#model.fit(train_image , train_labels, epochs = 100)  \n",
        "model.fit_generator(datagenerator.flow(train_image,train_labels, batch_size =32) ,\n",
        "                    samples_per_epoch = len(train_image),epochs =100)   ## fit genrator because the images cant fit in memory"
      ],
      "execution_count": 46,
      "outputs": [
        {
          "output_type": "stream",
          "text": [
            "WARNING:tensorflow:From /usr/local/lib/python3.6/dist-packages/tensorflow/python/ops/math_ops.py:3066: to_int32 (from tensorflow.python.ops.math_ops) is deprecated and will be removed in a future version.\n",
            "Instructions for updating:\n",
            "Use tf.cast instead.\n"
          ],
          "name": "stdout"
        },
        {
          "output_type": "stream",
          "text": [
            "/usr/local/lib/python3.6/dist-packages/ipykernel_launcher.py:2: UserWarning: Update your `fit_generator` call to the Keras 2 API: `fit_generator(<keras_pre..., epochs=100, steps_per_epoch=1562)`\n",
            "  \n"
          ],
          "name": "stderr"
        },
        {
          "output_type": "stream",
          "text": [
            "Epoch 1/100\n",
            "1562/1562 [==============================] - 33s 21ms/step - loss: 1.5016 - acc: 0.4539\n",
            "Epoch 2/100\n",
            "1562/1562 [==============================] - 24s 16ms/step - loss: 1.0872 - acc: 0.6143\n",
            "Epoch 3/100\n",
            "1562/1562 [==============================] - 24s 15ms/step - loss: 0.9363 - acc: 0.6709\n",
            "Epoch 4/100\n",
            "1562/1562 [==============================] - 25s 16ms/step - loss: 0.8442 - acc: 0.7032\n",
            "Epoch 5/100\n",
            "1562/1562 [==============================] - 25s 16ms/step - loss: 0.7749 - acc: 0.7294\n",
            "Epoch 6/100\n",
            "1562/1562 [==============================] - 24s 16ms/step - loss: 0.7289 - acc: 0.7435\n",
            "Epoch 7/100\n",
            "1562/1562 [==============================] - 25s 16ms/step - loss: 0.6828 - acc: 0.7619\n",
            "Epoch 8/100\n",
            "1562/1562 [==============================] - 25s 16ms/step - loss: 0.6533 - acc: 0.7707\n",
            "Epoch 9/100\n",
            "1562/1562 [==============================] - 25s 16ms/step - loss: 0.6156 - acc: 0.7830\n",
            "Epoch 10/100\n",
            "1562/1562 [==============================] - 24s 16ms/step - loss: 0.5840 - acc: 0.7941\n",
            "Epoch 11/100\n",
            "1562/1562 [==============================] - 24s 16ms/step - loss: 0.5641 - acc: 0.7998\n",
            "Epoch 12/100\n",
            "1562/1562 [==============================] - 24s 16ms/step - loss: 0.5382 - acc: 0.8092\n",
            "Epoch 13/100\n",
            "1562/1562 [==============================] - 24s 16ms/step - loss: 0.5231 - acc: 0.8174\n",
            "Epoch 14/100\n",
            "1562/1562 [==============================] - 25s 16ms/step - loss: 0.5032 - acc: 0.8237\n",
            "Epoch 15/100\n",
            "1562/1562 [==============================] - 24s 15ms/step - loss: 0.4881 - acc: 0.8276\n",
            "Epoch 16/100\n",
            "1562/1562 [==============================] - 24s 15ms/step - loss: 0.4758 - acc: 0.8328\n",
            "Epoch 17/100\n",
            "1562/1562 [==============================] - 24s 15ms/step - loss: 0.4638 - acc: 0.8348\n",
            "Epoch 18/100\n",
            "1562/1562 [==============================] - 23s 15ms/step - loss: 0.4537 - acc: 0.8385\n",
            "Epoch 19/100\n",
            "1562/1562 [==============================] - 24s 15ms/step - loss: 0.4390 - acc: 0.8459\n",
            "Epoch 20/100\n",
            "1562/1562 [==============================] - 24s 15ms/step - loss: 0.4314 - acc: 0.8490\n",
            "Epoch 21/100\n",
            "1562/1562 [==============================] - 24s 15ms/step - loss: 0.4209 - acc: 0.8519\n",
            "Epoch 22/100\n",
            "1562/1562 [==============================] - 24s 15ms/step - loss: 0.4106 - acc: 0.8553\n",
            "Epoch 23/100\n",
            "1562/1562 [==============================] - 24s 15ms/step - loss: 0.4049 - acc: 0.8594\n",
            "Epoch 24/100\n",
            "1562/1562 [==============================] - 24s 15ms/step - loss: 0.3994 - acc: 0.8610\n",
            "Epoch 25/100\n",
            "1562/1562 [==============================] - 24s 15ms/step - loss: 0.3912 - acc: 0.8632\n",
            "Epoch 26/100\n",
            "1562/1562 [==============================] - 24s 16ms/step - loss: 0.3867 - acc: 0.8646\n",
            "Epoch 27/100\n",
            "1562/1562 [==============================] - 25s 16ms/step - loss: 0.3766 - acc: 0.8687\n",
            "Epoch 28/100\n",
            "1562/1562 [==============================] - 25s 16ms/step - loss: 0.3777 - acc: 0.8681\n",
            "Epoch 29/100\n",
            "1562/1562 [==============================] - 25s 16ms/step - loss: 0.3708 - acc: 0.8708\n",
            "Epoch 30/100\n",
            "1562/1562 [==============================] - 25s 16ms/step - loss: 0.3665 - acc: 0.8732\n",
            "Epoch 31/100\n",
            "1562/1562 [==============================] - 25s 16ms/step - loss: 0.3620 - acc: 0.8764\n",
            "Epoch 32/100\n",
            "1562/1562 [==============================] - 25s 16ms/step - loss: 0.3573 - acc: 0.8737\n",
            "Epoch 33/100\n",
            "1562/1562 [==============================] - 25s 16ms/step - loss: 0.3508 - acc: 0.8784\n",
            "Epoch 34/100\n",
            "1562/1562 [==============================] - 24s 16ms/step - loss: 0.3481 - acc: 0.8788\n",
            "Epoch 35/100\n",
            "1562/1562 [==============================] - 24s 16ms/step - loss: 0.3445 - acc: 0.8817\n",
            "Epoch 36/100\n",
            "1562/1562 [==============================] - 26s 17ms/step - loss: 0.3403 - acc: 0.8828\n",
            "Epoch 37/100\n",
            "1562/1562 [==============================] - 29s 18ms/step - loss: 0.3440 - acc: 0.8803\n",
            "Epoch 38/100\n",
            "1562/1562 [==============================] - 28s 18ms/step - loss: 0.3292 - acc: 0.8880\n",
            "Epoch 39/100\n",
            "1562/1562 [==============================] - 28s 18ms/step - loss: 0.3394 - acc: 0.8826\n",
            "Epoch 40/100\n",
            "1562/1562 [==============================] - 28s 18ms/step - loss: 0.3292 - acc: 0.8881\n",
            "Epoch 41/100\n",
            "1562/1562 [==============================] - 28s 18ms/step - loss: 0.3213 - acc: 0.8899\n",
            "Epoch 42/100\n",
            "1562/1562 [==============================] - 27s 17ms/step - loss: 0.3220 - acc: 0.8894\n",
            "Epoch 43/100\n",
            "1562/1562 [==============================] - 27s 17ms/step - loss: 0.3223 - acc: 0.8902\n",
            "Epoch 44/100\n",
            "1562/1562 [==============================] - 26s 17ms/step - loss: 0.3104 - acc: 0.8944\n",
            "Epoch 45/100\n",
            "1562/1562 [==============================] - 31s 20ms/step - loss: 0.3187 - acc: 0.8924\n",
            "Epoch 46/100\n",
            "1562/1562 [==============================] - 29s 18ms/step - loss: 0.3084 - acc: 0.8940\n",
            "Epoch 47/100\n",
            "1562/1562 [==============================] - 24s 16ms/step - loss: 0.3090 - acc: 0.8942\n",
            "Epoch 48/100\n",
            "1562/1562 [==============================] - 24s 16ms/step - loss: 0.3075 - acc: 0.8965\n",
            "Epoch 49/100\n",
            "1562/1562 [==============================] - 25s 16ms/step - loss: 0.3098 - acc: 0.8959\n",
            "Epoch 50/100\n",
            "1562/1562 [==============================] - 26s 17ms/step - loss: 0.2996 - acc: 0.8985\n",
            "Epoch 51/100\n",
            "1562/1562 [==============================] - 27s 17ms/step - loss: 0.3072 - acc: 0.8974\n",
            "Epoch 52/100\n",
            "1562/1562 [==============================] - 27s 17ms/step - loss: 0.2976 - acc: 0.8993\n",
            "Epoch 53/100\n",
            "1562/1562 [==============================] - 26s 17ms/step - loss: 0.2978 - acc: 0.8996\n",
            "Epoch 54/100\n",
            "1562/1562 [==============================] - 26s 16ms/step - loss: 0.3009 - acc: 0.8988\n",
            "Epoch 55/100\n",
            "1562/1562 [==============================] - 30s 19ms/step - loss: 0.2959 - acc: 0.9002\n",
            "Epoch 56/100\n",
            "1562/1562 [==============================] - 28s 18ms/step - loss: 0.3008 - acc: 0.8994\n",
            "Epoch 57/100\n",
            "1562/1562 [==============================] - 28s 18ms/step - loss: 0.2861 - acc: 0.9048\n",
            "Epoch 58/100\n",
            "1562/1562 [==============================] - 28s 18ms/step - loss: 0.2848 - acc: 0.9036\n",
            "Epoch 59/100\n",
            "1562/1562 [==============================] - 28s 18ms/step - loss: 0.2913 - acc: 0.9033\n",
            "Epoch 60/100\n",
            "1562/1562 [==============================] - 28s 18ms/step - loss: 0.2874 - acc: 0.9050\n",
            "Epoch 61/100\n",
            "1562/1562 [==============================] - 28s 18ms/step - loss: 0.2873 - acc: 0.9039\n",
            "Epoch 62/100\n",
            "1562/1562 [==============================] - 28s 18ms/step - loss: 0.2865 - acc: 0.9041\n",
            "Epoch 63/100\n",
            "1562/1562 [==============================] - 27s 17ms/step - loss: 0.2781 - acc: 0.9079\n",
            "Epoch 64/100\n",
            "1562/1562 [==============================] - 27s 17ms/step - loss: 0.2846 - acc: 0.9052\n",
            "Epoch 65/100\n",
            "1562/1562 [==============================] - 27s 17ms/step - loss: 0.2771 - acc: 0.9073\n",
            "Epoch 66/100\n",
            "1562/1562 [==============================] - 27s 17ms/step - loss: 0.2706 - acc: 0.9082\n",
            "Epoch 67/100\n",
            "1562/1562 [==============================] - 27s 17ms/step - loss: 0.2812 - acc: 0.9042\n",
            "Epoch 68/100\n",
            "1562/1562 [==============================] - 27s 17ms/step - loss: 0.2786 - acc: 0.9081\n",
            "Epoch 69/100\n",
            "1562/1562 [==============================] - 27s 17ms/step - loss: 0.2748 - acc: 0.9083\n",
            "Epoch 70/100\n",
            "1562/1562 [==============================] - 27s 17ms/step - loss: 0.2793 - acc: 0.9068\n",
            "Epoch 71/100\n",
            "1562/1562 [==============================] - 26s 17ms/step - loss: 0.2711 - acc: 0.9105\n",
            "Epoch 72/100\n",
            "1562/1562 [==============================] - 27s 18ms/step - loss: 0.2751 - acc: 0.9088\n",
            "Epoch 73/100\n",
            "1562/1562 [==============================] - 28s 18ms/step - loss: 0.2795 - acc: 0.9065\n",
            "Epoch 74/100\n",
            "1562/1562 [==============================] - 27s 18ms/step - loss: 0.2717 - acc: 0.9096\n",
            "Epoch 75/100\n",
            "1562/1562 [==============================] - 27s 18ms/step - loss: 0.2652 - acc: 0.9130\n",
            "Epoch 76/100\n",
            "1562/1562 [==============================] - 27s 17ms/step - loss: 0.2730 - acc: 0.9094\n",
            "Epoch 77/100\n",
            "1562/1562 [==============================] - 27s 17ms/step - loss: 0.2671 - acc: 0.9104\n",
            "Epoch 78/100\n",
            "1562/1562 [==============================] - 27s 17ms/step - loss: 0.2706 - acc: 0.9111\n",
            "Epoch 79/100\n",
            "1562/1562 [==============================] - 27s 17ms/step - loss: 0.2667 - acc: 0.9110\n",
            "Epoch 80/100\n",
            "1562/1562 [==============================] - 26s 17ms/step - loss: 0.2687 - acc: 0.9110\n",
            "Epoch 81/100\n",
            "1562/1562 [==============================] - 26s 17ms/step - loss: 0.2616 - acc: 0.9128\n",
            "Epoch 82/100\n",
            "1562/1562 [==============================] - 26s 17ms/step - loss: 0.2666 - acc: 0.9111\n",
            "Epoch 83/100\n",
            "1562/1562 [==============================] - 27s 17ms/step - loss: 0.2620 - acc: 0.9125\n",
            "Epoch 84/100\n",
            "1562/1562 [==============================] - 27s 17ms/step - loss: 0.2660 - acc: 0.9116\n",
            "Epoch 85/100\n",
            "1562/1562 [==============================] - 27s 17ms/step - loss: 0.2659 - acc: 0.9131\n",
            "Epoch 86/100\n",
            "1562/1562 [==============================] - 26s 17ms/step - loss: 0.2611 - acc: 0.9160\n",
            "Epoch 87/100\n",
            "1562/1562 [==============================] - 26s 17ms/step - loss: 0.2574 - acc: 0.9144\n",
            "Epoch 88/100\n",
            "1562/1562 [==============================] - 26s 17ms/step - loss: 0.2580 - acc: 0.9161\n",
            "Epoch 89/100\n",
            "1562/1562 [==============================] - 26s 16ms/step - loss: 0.2666 - acc: 0.9122\n",
            "Epoch 90/100\n",
            "1562/1562 [==============================] - 26s 16ms/step - loss: 0.2599 - acc: 0.9141\n",
            "Epoch 91/100\n",
            "1562/1562 [==============================] - 25s 16ms/step - loss: 0.2594 - acc: 0.9150\n",
            "Epoch 92/100\n",
            "1562/1562 [==============================] - 25s 16ms/step - loss: 0.2627 - acc: 0.9138\n",
            "Epoch 93/100\n",
            "1562/1562 [==============================] - 25s 16ms/step - loss: 0.2564 - acc: 0.9171\n",
            "Epoch 94/100\n",
            "1562/1562 [==============================] - 25s 16ms/step - loss: 0.2597 - acc: 0.9158\n",
            "Epoch 95/100\n",
            "1562/1562 [==============================] - 26s 17ms/step - loss: 0.2555 - acc: 0.9154\n",
            "Epoch 96/100\n",
            "1562/1562 [==============================] - 26s 16ms/step - loss: 0.2579 - acc: 0.9152\n",
            "Epoch 97/100\n",
            "1562/1562 [==============================] - 26s 17ms/step - loss: 0.2555 - acc: 0.9165\n",
            "Epoch 98/100\n",
            "1562/1562 [==============================] - 25s 16ms/step - loss: 0.2489 - acc: 0.9193\n",
            "Epoch 99/100\n",
            "1562/1562 [==============================] - 25s 16ms/step - loss: 0.2499 - acc: 0.9187\n",
            "Epoch 100/100\n",
            "1562/1562 [==============================] - 26s 16ms/step - loss: 0.2543 - acc: 0.9161\n"
          ],
          "name": "stdout"
        },
        {
          "output_type": "execute_result",
          "data": {
            "text/plain": [
              "<keras.callbacks.History at 0x7fcc5e68d470>"
            ]
          },
          "metadata": {
            "tags": []
          },
          "execution_count": 46
        }
      ]
    },
    {
      "metadata": {
        "id": "hZjrf1owzIQ9",
        "colab_type": "code",
        "outputId": "0015ee86-1af2-478d-abd4-d145738a66ce",
        "colab": {
          "base_uri": "https://localhost:8080/",
          "height": 34
        }
      },
      "cell_type": "code",
      "source": [
        "test_loss , test_acc = model.evaluate(test_image , test_labels)"
      ],
      "execution_count": 47,
      "outputs": [
        {
          "output_type": "stream",
          "text": [
            "10000/10000 [==============================] - 1s 131us/step\n"
          ],
          "name": "stdout"
        }
      ]
    },
    {
      "metadata": {
        "id": "87qZ2oLZ1Tzv",
        "colab_type": "code",
        "outputId": "546bad58-9746-4649-8992-a8a6289a1009",
        "colab": {
          "base_uri": "https://localhost:8080/",
          "height": 34
        }
      },
      "cell_type": "code",
      "source": [
        "test_loss , test_acc\n",
        "\n"
      ],
      "execution_count": 48,
      "outputs": [
        {
          "output_type": "execute_result",
          "data": {
            "text/plain": [
              "(0.8181416123390198, 0.7884)"
            ]
          },
          "metadata": {
            "tags": []
          },
          "execution_count": 48
        }
      ]
    },
    {
      "metadata": {
        "id": "UDwJNpm_16jX",
        "colab_type": "code",
        "colab": {}
      },
      "cell_type": "code",
      "source": [
        ""
      ],
      "execution_count": 0,
      "outputs": []
    }
  ]
}